{
 "cells": [
  {
   "cell_type": "code",
   "execution_count": 1,
   "metadata": {
    "pycharm": {
     "name": "#%%\n"
    },
    "tags": [
     "hide-input"
    ]
   },
   "outputs": [],
   "source": [
    "%load_ext watermark\n",
    "# sys, file and nav packages:\n",
    "import datetime as dt\n",
    "import json\n",
    "import functools\n",
    "import time\n",
    "from os import listdir\n",
    "from os.path import isfile, join\n",
    "import typing\n",
    "\n",
    "# math packages:\n",
    "import pandas as pd\n",
    "import numpy as np\n",
    "from scipy import stats\n",
    "from statsmodels.distributions.empirical_distribution import ECDF\n",
    "\n",
    "# charting:\n",
    "import matplotlib as mpl\n",
    "import matplotlib.pyplot as plt\n",
    "import matplotlib.dates as mdates\n",
    "from matplotlib import ticker\n",
    "from matplotlib import colors\n",
    "from matplotlib.colors import LinearSegmentedColormap\n",
    "from matplotlib.gridspec import GridSpec\n",
    "from mpl_toolkits.axes_grid1 import make_axes_locatable\n",
    "from mpl_toolkits.axes_grid1.inset_locator import inset_axes\n",
    "\n",
    "import seaborn as sns\n",
    "\n",
    "import IPython\n",
    "from PIL import Image as PILImage\n",
    "from IPython.display import Markdown as md\n",
    "from IPython.display import display\n",
    "from myst_nb import glue\n",
    "\n",
    "import resources.landuse_config as luse\n",
    "\n",
    "import time\n",
    "\n",
    "\n",
    "# survey data:\n",
    "dfx= pd.read_csv('resources/checked_sdata_eos_2020_21.csv')\n",
    "\n",
    "\n",
    "dfBeaches = pd.read_csv(\"resources/beaches.csv\")\n",
    "dfCodes = pd.read_csv(\"resources/codes_with_group_names_2015.csv\")\n",
    "\n",
    "# set the index of the beach data to location slug\n",
    "dfBeaches.set_index('location', inplace=True)\n",
    "\n",
    "# set the index of to codes\n",
    "dfCodes.set_index(\"code\", inplace=True)\n",
    "\n",
    "# code description map\n",
    "code_d_map = dfCodes.description.copy()\n",
    "\n",
    "# shorten the descriptions of two codes\n",
    "code_d_map.loc[\"G38\"] = \"sheeting for protecting large cargo items\"\n",
    "code_d_map.loc[\"G73\"] = \"Foamed items & pieces (non packaging/insulation)\"\n",
    "\n",
    "# code material map\n",
    "code_m_map = dfCodes.material\n",
    "\n",
    "# this defines the css rules for the note-book table displays\n",
    "header_row = {'selector': 'th:nth-child(1)', 'props': f'background-color: #FFF; text-align:right'}\n",
    "even_rows = {\"selector\": 'tr:nth-child(even)', 'props': f'background-color: rgba(139, 69, 19, 0.08);'}\n",
    "odd_rows = {'selector': 'tr:nth-child(odd)', 'props': 'background: #FFF;'}\n",
    "table_font = {'selector': 'tr', 'props': 'font-size: 12px;'}\n",
    "table_data = {'selector': 'td', 'props': 'padding: 6px;'}\n",
    "table_css_styles = [even_rows, odd_rows, table_font, header_row]\n",
    "\n",
    "pdtype = pd.core.frame.DataFrame\n",
    "pstype = pd.core.series.Series\n",
    "\n",
    "cmap = sns.diverging_palette(230, 20, as_cmap=True)"
   ]
  },
  {
   "cell_type": "code",
   "execution_count": 2,
   "metadata": {
    "pycharm": {
     "name": "#%%\n"
    },
    "tags": []
   },
   "outputs": [
    {
     "data": {
      "text/html": [
       "<style type=\"text/css\">\n",
       "#T_300f0 tr:nth-child(even) {\n",
       "  background-color: rgba(139, 69, 19, 0.08);\n",
       "}\n",
       "#T_300f0 tr:nth-child(odd) {\n",
       "  background: #FFF;\n",
       "}\n",
       "#T_300f0 tr {\n",
       "  font-size: 12px;\n",
       "}\n",
       "#T_300f0 th:nth-child(1) {\n",
       "  background-color: #FFF;\n",
       "  text-align: right;\n",
       "}\n",
       "</style>\n",
       "<table id=\"T_300f0\">\n",
       "  <thead>\n",
       "    <tr>\n",
       "      <th class=\"blank level0\" >&nbsp;</th>\n",
       "      <th id=\"T_300f0_level0_col0\" class=\"col_heading level0 col0\" >0</th>\n",
       "    </tr>\n",
       "  </thead>\n",
       "  <tbody>\n",
       "    <tr>\n",
       "      <th id=\"T_300f0_level0_row0\" class=\"row_heading level0 row0\" >n locations</th>\n",
       "      <td id=\"T_300f0_row0_col0\" class=\"data row0 col0\" >93</td>\n",
       "    </tr>\n",
       "    <tr>\n",
       "      <th id=\"T_300f0_level0_row1\" class=\"row_heading level0 row1\" >n samples</th>\n",
       "      <td id=\"T_300f0_row1_col0\" class=\"data row1 col0\" >331</td>\n",
       "    </tr>\n",
       "    <tr>\n",
       "      <th id=\"T_300f0_level0_row2\" class=\"row_heading level0 row2\" >n lake samples</th>\n",
       "      <td id=\"T_300f0_row2_col0\" class=\"data row2 col0\" >331</td>\n",
       "    </tr>\n",
       "    <tr>\n",
       "      <th id=\"T_300f0_level0_row3\" class=\"row_heading level0 row3\" >n identified object types</th>\n",
       "      <td id=\"T_300f0_row3_col0\" class=\"data row3 col0\" >205</td>\n",
       "    </tr>\n",
       "    <tr>\n",
       "      <th id=\"T_300f0_level0_row4\" class=\"row_heading level0 row4\" >n possible object types</th>\n",
       "      <td id=\"T_300f0_row4_col0\" class=\"data row4 col0\" >230</td>\n",
       "    </tr>\n",
       "    <tr>\n",
       "      <th id=\"T_300f0_level0_row5\" class=\"row_heading level0 row5\" >total number of objects</th>\n",
       "      <td id=\"T_300f0_row5_col0\" class=\"data row5 col0\" >52269</td>\n",
       "    </tr>\n",
       "  </tbody>\n",
       "</table>\n"
      ],
      "text/plain": [
       "<pandas.io.formats.style.Styler at 0x7f3f28657580>"
      ]
     },
     "execution_count": 2,
     "metadata": {},
     "output_type": "execute_result"
    }
   ],
   "source": [
    "df = pd.read_csv('resources/surveys_iqaasl.csv')\n",
    "\n",
    "# the name of the lake was changed in the revision\n",
    "\n",
    "# the lakes of interest\n",
    "# collection points would be a good\n",
    "# label. This is how they are considered in the model\n",
    "# these locations serve as the endpoint for many \n",
    "# small rivers\n",
    "collection_points = [\n",
    "    'zurichsee',\n",
    "    'bielersee',\n",
    "    'neuenburgersee',\n",
    "    'walensee',\n",
    "    'vierwaldstattersee',\n",
    "    'brienzersee',\n",
    "    'thunersee',\n",
    "    'lac-leman',\n",
    "    'lago-maggiore',\n",
    "    'lago-di-lugano',\n",
    "    'zugersee'\n",
    "]\n",
    "\n",
    "# the data-frame of survey results to be considered\n",
    "features_of_interest = collection_points\n",
    "df = df[df.feature.isin(features_of_interest)]\n",
    "\n",
    "# test the survey results of an object of interest\n",
    "# against a threshhold\n",
    "code = \"G95\"\n",
    "to_test = df[df.code == code].copy()\n",
    "threshhold = to_test.pcs_m.median()\n",
    "\n",
    "# map the location to the name of the lake\n",
    "wn_map = df[[\"location\", \"feature\"]].drop_duplicates(\"location\").set_index(\"location\")\n",
    "wn_map = wn_map[\"feature\"]\n",
    "\n",
    "\n",
    "# The summary of the survey data\n",
    "locations = df.location.unique()\n",
    "samples = df.loc_date.unique()\n",
    "lakes = df[df.w_t == \"l\"].drop_duplicates(\"loc_date\").w_t.value_counts().values[0]\n",
    "codes_identified = df[df.quantity > 0].code.unique()\n",
    "codes_possible = df.code.unique()\n",
    "total_id = df.quantity.sum()\n",
    "\n",
    "data_summary = {\n",
    "    \"n locations\": len(locations),\n",
    "    \"n samples\": len(samples),\n",
    "    \"n lake samples\": lakes,\n",
    "    \"n identified object types\": len(codes_identified),\n",
    "    \"n possible object types\": len(codes_possible),\n",
    "    \"total number of objects\": total_id\n",
    "}\n",
    "\n",
    "pd.DataFrame(index = data_summary.keys(), data=data_summary.values()).style.set_table_styles(table_css_styles)"
   ]
  },
  {
   "cell_type": "markdown",
   "metadata": {
    "pycharm": {
     "name": "#%% md\n"
    },
    "tags": []
   },
   "source": [
    "## The map data\n",
    "\n",
    "The proceeding is the land-use categories and the relevant sub-categories. With the exception of _Land Cover_ the total of each category was considered for each hex. The covariance of each sub-category is given in the annex.\n",
    "\n",
    "### The base: Land cover\n",
    "\n",
    "This is how the earth is covered, independent of its use. The following categories are the base land-cover categories:\n",
    "\n",
    "1. Orchard\n",
    "2. Vineyards\n",
    "3. Settlement\n",
    "4. City center\n",
    "5. Forest\n",
    "6. Undefined\n",
    "7. Wetlands\n",
    "\n",
    "The area of each sub-category of land-cover within a 3000 m hex is totaled and the correlation is considered independently. The categories that follow are superimposed on to these surfaces."
   ]
  },
  {
   "cell_type": "code",
   "execution_count": 3,
   "metadata": {
    "pycharm": {
     "name": "#%%\n"
    },
    "tags": [
     "hide-input"
    ]
   },
   "outputs": [],
   "source": [
    "my_path=  \"resources/hex-3000m-cleaned\"\n",
    "\n",
    "columns = [\n",
    "    \"river_bass\",\n",
    "    \"location\", \n",
    "    \"city\",\n",
    "    \"feature\"\n",
    "]\n",
    "\n",
    "column_rename = {\"undefined\":\"Undefined\"}\n",
    "area_of_a_hex = 5845672\n",
    "id_vals = [\"location\", \"OBJVAL\"]\n",
    "agg_val = \"surface\"\n",
    "\n",
    "data_map_name = \"lake-locations-landcover\"\n",
    "\n",
    "lc_groups = [\n",
    "    'Siedl',\n",
    "    'Undefined',\n",
    "    'Wald'\n",
    "]\n",
    "\n",
    "lc_presence = [\n",
    "    'Obstanlage',\n",
    "    'Reben',\n",
    "    'Stadtzentr',\n",
    "    'Sumpf',\n",
    "    'Fels'\n",
    "]\n",
    "\n",
    "groups_and_presence = [*lc_groups, *lc_presence]\n",
    "       \n",
    "merge_column = gby_column = \"location\"\n",
    "merge_method = 'outer'\n",
    "merge_validate = \"many_to_one\"\n",
    "quantiles =   [0,.1, .25, .5, .75, .9, 1]\n",
    "        \n",
    "# label the region of interest\n",
    "# this creates a hierarcal group of the locations\n",
    "# that are within a region. The most common would be lake\n",
    "regional_label = \"lake\"\n",
    "label_map = wn_map\n",
    "\n",
    "# collect the data\n",
    "data_map = luse.collect_feature_data(path_to_data=my_path)\n",
    "land_cover_data = data_map[data_map_name]\n",
    "land_cover_data.rename(columns=column_rename, inplace=True)\n",
    "\n",
    "# limit the data to the parameters of interest\n",
    "\n",
    "\n",
    "land_use_kwargs = {\n",
    "    \"data_map\":land_cover_data,\n",
    "    \"locations\":locations,\n",
    "    \"region\":None,\n",
    "    \"columns\":columns,\n",
    "    \"id_vals\": id_vals,\n",
    "    \"dim_oi\": area_of_a_hex,\n",
    "    \"to_aggregate\":agg_val,\n",
    "    \"land_use_groups\":lc_groups,\n",
    "}\n",
    "\n",
    "test_kwargs = {\n",
    "    \"df\":to_test,\n",
    "    \"threshhold\":threshhold,\n",
    "    \"merge_column\":merge_column,\n",
    "    \"merge_method\":merge_method,\n",
    "    \"merge_validate\":merge_validate,\n",
    "    \"groups\":lc_groups,\n",
    "    \"presence\":lc_presence,\n",
    "    \"quantiles\":quantiles\n",
    "}\n",
    "\n",
    "inf_operation = {\"k\":\"sum\", \"n\":\"sum\"}"
   ]
  },
  {
   "cell_type": "code",
   "execution_count": 4,
   "metadata": {
    "jupyter": {
     "source_hidden": true
    },
    "pycharm": {
     "name": "#%%\n"
    },
    "tags": []
   },
   "outputs": [],
   "source": [
    "kwargs = {\n",
    "    'land_use_kwargs': land_use_kwargs,\n",
    "    'test_kwargs': test_kwargs,\n",
    "    'label': None,\n",
    "    'assign_undefined': True,\n",
    "    'length': False,\n",
    "    'cover': True,\n",
    "    'inf_operation': inf_operation,\n",
    "    'regional_label': regional_label,\n",
    "    'label_map': label_map,\n",
    "    'total': False\n",
    "}\n",
    "\n",
    "\n",
    "nx = luse.LanduseConfiguration(**kwargs)\n",
    "nx.groups_and_presence()\n",
    "nx.inference_groups()\n",
    "nxf = nx.grouped_data\n",
    "nx_conf = nx.labeled_groups"
   ]
  },
  {
   "cell_type": "code",
   "execution_count": 5,
   "metadata": {
    "jupyter": {
     "source_hidden": true
    },
    "pycharm": {
     "name": "#%%\n"
    },
    "tags": []
   },
   "outputs": [],
   "source": [
    "# add the data from another land use layer\n",
    "# the results will be added to the landcover data frame\n",
    "label = \"strasse\"\n",
    "data_map_name = 'lake-locations-strasse'\n",
    "id_vals = [\"location\", \"OBJEKTART\"]\n",
    "agg_val = \"length\"\n",
    "\n",
    "# identify the columns of interest\n",
    "st_groups = [\n",
    "    '10m Strasse',\n",
    "    '1m Weg',\n",
    "    '1m Wegfragment',\n",
    "    '2m Weg',\n",
    "    '2m Wegfragment',\n",
    "    '3m Strasse',\n",
    "    '4m Strasse',\n",
    "    '6m Strasse',\n",
    "    '8m Strasse',\n",
    "    'Ausfahrt',\n",
    "    'Autobahn',\n",
    "    'Autostrasse',\n",
    "    'Dienstzufahrt',\n",
    "    'Einfahrt',\n",
    "    'Faehre',\n",
    "    'Markierte Spur',\n",
    "    'Platz',\n",
    "    'Raststaette', 'Verbindung', 'Zufahrt'\n",
    "]\n",
    "\n",
    "st_presence = []\n",
    "\n",
    "groups_and_presence = [*st_groups, *st_presence]\n",
    "\n",
    "# collect the data\n",
    "street_lengths_data = data_map[data_map_name]\n",
    "\n",
    "# update the key word arguments for the land use data\n",
    "land_use_update = dict(data_map=street_lengths_data, id_vals=id_vals, to_aggregate=agg_val, land_use_groups=st_groups)\n",
    "land_use_kwargs.update(land_use_update)\n",
    "\n",
    "# update the key word arguments for the test data\n",
    "test_update = dict(groups=st_groups, presence=None)\n",
    "test_kwargs.update(test_update)\n",
    "\n",
    "kwargs = {\n",
    "    'land_use_kwargs': land_use_kwargs,\n",
    "    'test_kwargs': test_kwargs,\n",
    "    'label': 'strasse',\n",
    "    'assign_undefined': False,\n",
    "    'length': True,\n",
    "    'cover': False,\n",
    "    'inf_operation': inf_operation,\n",
    "    'regional_label': None,\n",
    "    'label_map': None,\n",
    "    'total': True\n",
    "}\n",
    "\n",
    "strasse = luse.LanduseConfiguration(**kwargs)\n",
    "\n",
    "strasse.groups_and_presence()\n",
    "strasse.inference_groups()\n",
    "sxf = strasse.grouped_data\n",
    "sx_conf = strasse.labeled_groups\n",
    "strasse_config = strasse.configuration_keys"
   ]
  },
  {
   "cell_type": "code",
   "execution_count": 6,
   "metadata": {
    "jupyter": {
     "source_hidden": true
    },
    "pycharm": {
     "name": "#%%\n"
    },
    "tags": []
   },
   "outputs": [],
   "source": [
    "# add the data from another land use layer\n",
    "# the results will be added to the landcover data frame\n",
    "# column_rename = {\"undefined\":\"Undefined\"}\n",
    "data_map_name = 'lake-locations-freizeitareal'\n",
    "id_vals = [\"location\", \"OBJEKTART\"]\n",
    "agg_val = \"surface\"\n",
    "columns = [\n",
    "    \"river_bass\",\n",
    "    \"location\",\n",
    "    \"city\",\n",
    "    \"feature\"\n",
    "]\n",
    "\n",
    "recreation_data = data_map[data_map_name]\n",
    "# identify the columns of interest\n",
    "rec_groups = recreation_data.OBJEKTART.unique()\n",
    "rec_presence = []\n",
    "\n",
    "groups_and_presence = [*rec_groups, *rec_presence]\n",
    "# update the key word arguments for the land use data\n",
    "land_use_update = dict(data_map=recreation_data, id_vals=id_vals, to_aggregate=agg_val, land_use_groups=rec_groups)\n",
    "land_use_kwargs.update(land_use_update)\n",
    "\n",
    "# update the key word arguments for the test data\n",
    "test_update = dict(groups=rec_groups, presence=None)\n",
    "test_kwargs.update(test_update)\n",
    "\n",
    "kwargs = {\n",
    "    'land_use_kwargs': land_use_kwargs,\n",
    "    'test_kwargs': test_kwargs,\n",
    "    'label': 'recreation',\n",
    "    'assign_undefined': False,\n",
    "    'length': True,\n",
    "    'cover': False,\n",
    "    'inf_operation': inf_operation,\n",
    "    'regional_label': None,\n",
    "    'label_map': None,\n",
    "    'total': True\n",
    "}\n",
    "\n",
    "recreation = luse.LanduseConfiguration(**kwargs)\n",
    "recreation.groups_and_presence()\n",
    "recreation.inference_groups()\n",
    "rec_config = recreation.configuration_keys"
   ]
  },
  {
   "cell_type": "code",
   "execution_count": 7,
   "metadata": {
    "jupyter": {
     "source_hidden": true
    },
    "pycharm": {
     "name": "#%%\n"
    },
    "tags": []
   },
   "outputs": [],
   "source": [
    "# add the data from another land use layer\n",
    "# the results will be added to the landcover data frame\n",
    "data_map_name = 'lake-locations-nutuzungsareal'\n",
    "id_vals = [\"location\", \"OBJEKTART\"]\n",
    "agg_val = \"surface\"\n",
    "\n",
    "columns = [\n",
    "    \"river_bass\",\n",
    "    \"location\", \n",
    "    \"city\",\n",
    "    \"feature\"\n",
    "]\n",
    "\n",
    "\n",
    "infrastructure_data = data_map[data_map_name]\n",
    "\n",
    "# identify the columns of interest\n",
    "inf_groups = infrastructure_data.OBJEKTART.unique()\n",
    "inf_presence = []\n",
    "\n",
    "groups_and_presence = [*inf_groups, *inf_presence]\n",
    "# update the key word arguments for the land use data\n",
    "land_use_update = dict(data_map=infrastructure_data, id_vals=id_vals, to_aggregate=agg_val, land_use_groups=inf_groups)\n",
    "land_use_kwargs.update(land_use_update)\n",
    "\n",
    "# update the key word arguments for the test data\n",
    "test_update = dict(groups=inf_groups, presence=None)\n",
    "test_kwargs.update(test_update)\n",
    "\n",
    "kwargs = {\n",
    "    'land_use_kwargs': land_use_kwargs,\n",
    "    'test_kwargs': test_kwargs,\n",
    "    'label': 'infrastructure',\n",
    "    'assign_undefined': False,\n",
    "    'length': True,\n",
    "    'cover': False,\n",
    "    'inf_operation': inf_operation,\n",
    "    'regional_label': None,\n",
    "    'label_map': None,\n",
    "    'total': True\n",
    "}\n",
    "\n",
    "infrastructure = luse.LanduseConfiguration(**kwargs)\n",
    "infrastructure.groups_and_presence()\n",
    "infrastructure.inference_groups()\n",
    "inra_config = infrastructure.configuration_keys"
   ]
  },
  {
   "cell_type": "code",
   "execution_count": 8,
   "metadata": {
    "pycharm": {
     "name": "#%%\n"
    },
    "tags": []
   },
   "outputs": [],
   "source": [
    "data_map_name = 'resources/hex-3000m-cleaned/river-intersections-2k.csv'\n",
    "intersections = pd.read_csv(data_map_name)\n",
    "intersections = intersections.drop_duplicates([\"location\", \"name\"])\n",
    "dints = intersections.groupby(\"location\").distance.sum()\n",
    "nints = intersections.groupby(\"location\").distance.nunique()\n",
    "ints_d = pd.DataFrame(dints/nints).reset_index()\n",
    "ints_d = pd.melt(ints_d, id_vars=\"location\", value_vars=\"distance\").fillna(0)\n",
    "\n",
    "river_length = pd.read_csv('resources/hex-3000m-cleaned/river-length-2k.csv')\n",
    "river_length = river_length.drop_duplicates([\"location\", \"name\"])\n",
    "nlen = river_length.groupby(\"location\").length.nunique()\n",
    "llen = river_length.groupby(\"location\").length.sum()\n",
    "lengths_d = pd.DataFrame(llen/nlen).reset_index()\n",
    "len_d = pd.melt(lengths_d, id_vars=\"location\", value_vars=\"length\").fillna(0)"
   ]
  },
  {
   "cell_type": "code",
   "execution_count": null,
   "metadata": {},
   "outputs": [],
   "source": []
  },
  {
   "cell_type": "code",
   "execution_count": 9,
   "metadata": {},
   "outputs": [],
   "source": [
    "dfx = pd.read_csv('resources/checked_sdata_eos_2020_21.csv')\n",
    "locations = dfx.location.unique()"
   ]
  },
  {
   "cell_type": "code",
   "execution_count": 10,
   "metadata": {},
   "outputs": [
    {
     "data": {
      "text/plain": [
       "[]"
      ]
     },
     "execution_count": 10,
     "metadata": {},
     "output_type": "execute_result"
    }
   ],
   "source": [
    "missl = [x for x in intersections.location.unique() if x not in locations]\n",
    "missl"
   ]
  },
  {
   "cell_type": "code",
   "execution_count": null,
   "metadata": {},
   "outputs": [],
   "source": [
    "intersections"
   ]
  },
  {
   "cell_type": "code",
   "execution_count": 11,
   "metadata": {},
   "outputs": [
    {
     "data": {
      "text/html": [
       "<div>\n",
       "<style scoped>\n",
       "    .dataframe tbody tr th:only-of-type {\n",
       "        vertical-align: middle;\n",
       "    }\n",
       "\n",
       "    .dataframe tbody tr th {\n",
       "        vertical-align: top;\n",
       "    }\n",
       "\n",
       "    .dataframe thead th {\n",
       "        text-align: right;\n",
       "    }\n",
       "</style>\n",
       "<table border=\"1\" class=\"dataframe\">\n",
       "  <thead>\n",
       "    <tr style=\"text-align: right;\">\n",
       "      <th></th>\n",
       "      <th>river_bass</th>\n",
       "      <th>location</th>\n",
       "      <th>city</th>\n",
       "      <th>feature</th>\n",
       "      <th>name</th>\n",
       "      <th>distance</th>\n",
       "    </tr>\n",
       "  </thead>\n",
       "  <tbody>\n",
       "    <tr>\n",
       "      <th>2874</th>\n",
       "      <td>rhone</td>\n",
       "      <td>boiron</td>\n",
       "      <td>Tolochenaz</td>\n",
       "      <td>lac-leman</td>\n",
       "      <td>La Morges</td>\n",
       "      <td>1705.243588</td>\n",
       "    </tr>\n",
       "    <tr>\n",
       "      <th>2875</th>\n",
       "      <td>rhone</td>\n",
       "      <td>boiron</td>\n",
       "      <td>Tolochenaz</td>\n",
       "      <td>lac-leman</td>\n",
       "      <td>Le Boiron de Nyon</td>\n",
       "      <td>48.213544</td>\n",
       "    </tr>\n",
       "  </tbody>\n",
       "</table>\n",
       "</div>"
      ],
      "text/plain": [
       "     river_bass location        city    feature               name   \n",
       "2874      rhone   boiron  Tolochenaz  lac-leman          La Morges  \\\n",
       "2875      rhone   boiron  Tolochenaz  lac-leman  Le Boiron de Nyon   \n",
       "\n",
       "         distance  \n",
       "2874  1705.243588  \n",
       "2875    48.213544  "
      ]
     },
     "execution_count": 11,
     "metadata": {},
     "output_type": "execute_result"
    }
   ],
   "source": [
    "intersections[intersections.location == 'boiron']"
   ]
  },
  {
   "cell_type": "code",
   "execution_count": 12,
   "metadata": {},
   "outputs": [
    {
     "data": {
      "text/plain": [
       "[]"
      ]
     },
     "execution_count": 12,
     "metadata": {},
     "output_type": "execute_result"
    }
   ],
   "source": [
    "f = pd.read_csv(\"resources/hex-3000m-cleaned/river-length-2k.csv\")\n",
    "missing = [x for x in f.location.unique() if x not in locations]\n",
    "[x for x in missl if x not in missing]"
   ]
  },
  {
   "cell_type": "code",
   "execution_count": 13,
   "metadata": {},
   "outputs": [
    {
     "data": {
      "text/html": [
       "<div>\n",
       "<style scoped>\n",
       "    .dataframe tbody tr th:only-of-type {\n",
       "        vertical-align: middle;\n",
       "    }\n",
       "\n",
       "    .dataframe tbody tr th {\n",
       "        vertical-align: top;\n",
       "    }\n",
       "\n",
       "    .dataframe thead th {\n",
       "        text-align: right;\n",
       "    }\n",
       "</style>\n",
       "<table border=\"1\" class=\"dataframe\">\n",
       "  <thead>\n",
       "    <tr style=\"text-align: right;\">\n",
       "      <th></th>\n",
       "      <th>river_bass</th>\n",
       "      <th>location</th>\n",
       "      <th>city</th>\n",
       "      <th>feature</th>\n",
       "      <th>name</th>\n",
       "      <th>length</th>\n",
       "      <th>distance</th>\n",
       "    </tr>\n",
       "  </thead>\n",
       "  <tbody>\n",
       "    <tr>\n",
       "      <th>0</th>\n",
       "      <td>NaN</td>\n",
       "      <td>NaN</td>\n",
       "      <td>NaN</td>\n",
       "      <td>NaN</td>\n",
       "      <td>NaN</td>\n",
       "      <td>NaN</td>\n",
       "      <td>NaN</td>\n",
       "    </tr>\n",
       "    <tr>\n",
       "      <th>1</th>\n",
       "      <td>NaN</td>\n",
       "      <td>NaN</td>\n",
       "      <td>NaN</td>\n",
       "      <td>NaN</td>\n",
       "      <td>NaN</td>\n",
       "      <td>NaN</td>\n",
       "      <td>NaN</td>\n",
       "    </tr>\n",
       "    <tr>\n",
       "      <th>2</th>\n",
       "      <td>NaN</td>\n",
       "      <td>NaN</td>\n",
       "      <td>NaN</td>\n",
       "      <td>NaN</td>\n",
       "      <td>NaN</td>\n",
       "      <td>NaN</td>\n",
       "      <td>NaN</td>\n",
       "    </tr>\n",
       "    <tr>\n",
       "      <th>3</th>\n",
       "      <td>NaN</td>\n",
       "      <td>NaN</td>\n",
       "      <td>NaN</td>\n",
       "      <td>NaN</td>\n",
       "      <td>NaN</td>\n",
       "      <td>NaN</td>\n",
       "      <td>NaN</td>\n",
       "    </tr>\n",
       "    <tr>\n",
       "      <th>4</th>\n",
       "      <td>NaN</td>\n",
       "      <td>NaN</td>\n",
       "      <td>NaN</td>\n",
       "      <td>NaN</td>\n",
       "      <td>NaN</td>\n",
       "      <td>NaN</td>\n",
       "      <td>NaN</td>\n",
       "    </tr>\n",
       "    <tr>\n",
       "      <th>...</th>\n",
       "      <td>...</td>\n",
       "      <td>...</td>\n",
       "      <td>...</td>\n",
       "      <td>...</td>\n",
       "      <td>...</td>\n",
       "      <td>...</td>\n",
       "      <td>...</td>\n",
       "    </tr>\n",
       "    <tr>\n",
       "      <th>688</th>\n",
       "      <td>NaN</td>\n",
       "      <td>NaN</td>\n",
       "      <td>NaN</td>\n",
       "      <td>NaN</td>\n",
       "      <td>NaN</td>\n",
       "      <td>NaN</td>\n",
       "      <td>NaN</td>\n",
       "    </tr>\n",
       "    <tr>\n",
       "      <th>689</th>\n",
       "      <td>NaN</td>\n",
       "      <td>NaN</td>\n",
       "      <td>NaN</td>\n",
       "      <td>NaN</td>\n",
       "      <td>NaN</td>\n",
       "      <td>NaN</td>\n",
       "      <td>NaN</td>\n",
       "    </tr>\n",
       "    <tr>\n",
       "      <th>691</th>\n",
       "      <td>NaN</td>\n",
       "      <td>NaN</td>\n",
       "      <td>NaN</td>\n",
       "      <td>NaN</td>\n",
       "      <td>NaN</td>\n",
       "      <td>NaN</td>\n",
       "      <td>NaN</td>\n",
       "    </tr>\n",
       "    <tr>\n",
       "      <th>692</th>\n",
       "      <td>NaN</td>\n",
       "      <td>NaN</td>\n",
       "      <td>NaN</td>\n",
       "      <td>NaN</td>\n",
       "      <td>NaN</td>\n",
       "      <td>NaN</td>\n",
       "      <td>NaN</td>\n",
       "    </tr>\n",
       "    <tr>\n",
       "      <th>693</th>\n",
       "      <td>NaN</td>\n",
       "      <td>NaN</td>\n",
       "      <td>NaN</td>\n",
       "      <td>NaN</td>\n",
       "      <td>NaN</td>\n",
       "      <td>NaN</td>\n",
       "      <td>NaN</td>\n",
       "    </tr>\n",
       "  </tbody>\n",
       "</table>\n",
       "<p>398 rows × 7 columns</p>\n",
       "</div>"
      ],
      "text/plain": [
       "    river_bass location city feature name  length  distance\n",
       "0          NaN      NaN  NaN     NaN  NaN     NaN       NaN\n",
       "1          NaN      NaN  NaN     NaN  NaN     NaN       NaN\n",
       "2          NaN      NaN  NaN     NaN  NaN     NaN       NaN\n",
       "3          NaN      NaN  NaN     NaN  NaN     NaN       NaN\n",
       "4          NaN      NaN  NaN     NaN  NaN     NaN       NaN\n",
       "..         ...      ...  ...     ...  ...     ...       ...\n",
       "688        NaN      NaN  NaN     NaN  NaN     NaN       NaN\n",
       "689        NaN      NaN  NaN     NaN  NaN     NaN       NaN\n",
       "691        NaN      NaN  NaN     NaN  NaN     NaN       NaN\n",
       "692        NaN      NaN  NaN     NaN  NaN     NaN       NaN\n",
       "693        NaN      NaN  NaN     NaN  NaN     NaN       NaN\n",
       "\n",
       "[398 rows x 7 columns]"
      ]
     },
     "execution_count": 13,
     "metadata": {},
     "output_type": "execute_result"
    }
   ],
   "source": [
    "river_length[river_length.isnull()]"
   ]
  },
  {
   "cell_type": "code",
   "execution_count": 14,
   "metadata": {
    "tags": []
   },
   "outputs": [],
   "source": [
    "id_vals = [\"location\", \"variable\"]\n",
    "agg_val = \"value\"\n",
    "inf_groups = [\"distance\"]\n",
    "inf_presence = []\n",
    "\n",
    "groups_and_presence = [*inf_groups, *inf_presence]\n",
    "\n",
    "\n",
    "\n",
    "# update the key word arguments for the land use data\n",
    "land_use_update = dict(data_map=ints_d, id_vals=id_vals, to_aggregate=agg_val, land_use_groups=inf_groups)\n",
    "land_use_kwargs.update(land_use_update)\n",
    "\n",
    "# update the key word arguments for the test data\n",
    "test_update = dict(groups=inf_groups, presence=None)\n",
    "test_kwargs.update(test_update)\n",
    "\n",
    "\n",
    "\n",
    "kwargs = {\n",
    "    'land_use_kwargs': land_use_kwargs,\n",
    "    'test_kwargs': test_kwargs,\n",
    "    'label': \"r-distance\",\n",
    "    'assign_undefined': False,\n",
    "    'length': True,\n",
    "    'cover': False,\n",
    "    'inf_operation': inf_operation,\n",
    "    'regional_label': None,\n",
    "    'label_map': label_map,\n",
    "    'total': True\n",
    "}\n",
    "\n",
    "distance = luse.LanduseConfiguration(**kwargs)\n",
    "distance.groups_and_presence()\n",
    "distance.inference_groups()\n",
    "dist_conf = distance.configuration_keys"
   ]
  },
  {
   "cell_type": "code",
   "execution_count": 15,
   "metadata": {
    "pycharm": {
     "name": "#%%\n"
    },
    "tags": []
   },
   "outputs": [],
   "source": [
    "\n",
    "id_vals = [\"location\", \"variable\"]\n",
    "agg_val = \"value\"\n",
    "inf_groups = [\"length\"]\n",
    "inf_presence = []\n",
    "\n",
    "groups_and_presence = [*inf_groups, *inf_presence]\n",
    "\n",
    "\n",
    "\n",
    "# update the key word arguments for the land use data\n",
    "land_use_update = dict(data_map=len_d, id_vals=id_vals, to_aggregate=agg_val, land_use_groups=inf_groups)\n",
    "land_use_kwargs.update(land_use_update)\n",
    "\n",
    "# update the key word arguments for the test data\n",
    "test_update = dict(groups=inf_groups, presence=None)\n",
    "test_kwargs.update(test_update)\n",
    "\n",
    "\n",
    "\n",
    "kwargs = {\n",
    "    'land_use_kwargs': land_use_kwargs,\n",
    "    'test_kwargs': test_kwargs,\n",
    "    'label': \"r-length\",\n",
    "    'assign_undefined': False,\n",
    "    'length': True,\n",
    "    'cover': False,\n",
    "    'inf_operation': inf_operation,\n",
    "    'regional_label': None,\n",
    "    'label_map': label_map,\n",
    "    'total': True\n",
    "}\n",
    "\n",
    "intersections = luse.LanduseConfiguration(**kwargs)\n",
    "intersections.groups_and_presence()\n",
    "intersections.inference_groups()\n",
    "int_conf = intersections.configuration_keys"
   ]
  },
  {
   "cell_type": "code",
   "execution_count": 16,
   "metadata": {
    "pycharm": {
     "name": "#%%\n"
    },
    "tags": []
   },
   "outputs": [],
   "source": [
    "# add results for land use to land cover \n",
    "# drop the conf column\n",
    "fgl = nx_conf.drop(\"conf\", axis=1)\n",
    "\n",
    "fgl['infrastructure'] = fgl.location.apply(lambda x: inra_config.loc[x][0][0])\n",
    "fgl['strasse'] = fgl.location.apply(lambda x: strasse_config.loc[x][0][0])\n",
    "fgl['recreation'] = fgl.location.apply(lambda x: rec_config.loc[x][0][0])\n",
    "fgl['r-length'] = fgl.location.apply(lambda x: int_conf.loc[x][0][0])\n",
    "fgl['r-distance'] = fgl.location.apply(lambda x: dist_conf.loc[x][0][0])\n",
    "fgl = fgl.fillna(0)\n",
    "# define the confiugration columns\n",
    "conf_columns = [*lc_groups, *lc_presence, 'infrastructure', 'strasse', 'recreation', 'r-length', 'r-distance']\n",
    "fgl['configuration'] = list(zip(*[fgl[x] for x in conf_columns]))\n",
    "fgl_conf_keys = fgl[[\"location\", \"configuration\"]].set_index(\"location\")\n",
    "\n",
    "# update the probability tables\n",
    "fgl_ptables =nx.p_tables\n",
    "fgl_ptables.update(infrastructure.p_tables)\n",
    "fgl_ptables.update(recreation.p_tables)\n",
    "fgl_ptables.update(strasse.p_tables)\n",
    "fgl_ptables.update(intersections.p_tables)\n",
    "fgl_ptables.update(distance.p_tables)"
   ]
  },
  {
   "cell_type": "code",
   "execution_count": 17,
   "metadata": {
    "pycharm": {
     "name": "#%%\n"
    },
    "tags": []
   },
   "outputs": [
    {
     "name": "stdout",
     "output_type": "stream",
     "text": [
      "G95 0.02\n"
     ]
    },
    {
     "data": {
      "text/html": [
       "<div>\n",
       "<style scoped>\n",
       "    .dataframe tbody tr th:only-of-type {\n",
       "        vertical-align: middle;\n",
       "    }\n",
       "\n",
       "    .dataframe tbody tr th {\n",
       "        vertical-align: top;\n",
       "    }\n",
       "\n",
       "    .dataframe thead th {\n",
       "        text-align: right;\n",
       "    }\n",
       "</style>\n",
       "<table border=\"1\" class=\"dataframe\">\n",
       "  <thead>\n",
       "    <tr style=\"text-align: right;\">\n",
       "      <th></th>\n",
       "      <th>location</th>\n",
       "      <th>p</th>\n",
       "    </tr>\n",
       "  </thead>\n",
       "  <tbody>\n",
       "    <tr>\n",
       "      <th>0</th>\n",
       "      <td>aabach</td>\n",
       "      <td>0.608766</td>\n",
       "    </tr>\n",
       "    <tr>\n",
       "      <th>1</th>\n",
       "      <td>anarchy-beach</td>\n",
       "      <td>0.619628</td>\n",
       "    </tr>\n",
       "    <tr>\n",
       "      <th>2</th>\n",
       "      <td>ascona-traghetto-spiaggia</td>\n",
       "      <td>0.606723</td>\n",
       "    </tr>\n",
       "    <tr>\n",
       "      <th>3</th>\n",
       "      <td>augustmutzenbergstrandweg</td>\n",
       "      <td>0.292101</td>\n",
       "    </tr>\n",
       "    <tr>\n",
       "      <th>4</th>\n",
       "      <td>baby-plage-geneva</td>\n",
       "      <td>0.419333</td>\n",
       "    </tr>\n",
       "    <tr>\n",
       "      <th>...</th>\n",
       "      <td>...</td>\n",
       "      <td>...</td>\n",
       "    </tr>\n",
       "    <tr>\n",
       "      <th>88</th>\n",
       "      <td>zuerichsee_waedenswil_colomboc_1</td>\n",
       "      <td>0.295100</td>\n",
       "    </tr>\n",
       "    <tr>\n",
       "      <th>89</th>\n",
       "      <td>zugerseecholler_cham_blarerm</td>\n",
       "      <td>0.285809</td>\n",
       "    </tr>\n",
       "    <tr>\n",
       "      <th>90</th>\n",
       "      <td>zurcher-strand</td>\n",
       "      <td>0.459357</td>\n",
       "    </tr>\n",
       "    <tr>\n",
       "      <th>91</th>\n",
       "      <td>zurichsee_kusnachterhorn_thirkell-whitej</td>\n",
       "      <td>0.291816</td>\n",
       "    </tr>\n",
       "    <tr>\n",
       "      <th>92</th>\n",
       "      <td>zurichsee_wollishofen_langendorfm</td>\n",
       "      <td>0.058602</td>\n",
       "    </tr>\n",
       "  </tbody>\n",
       "</table>\n",
       "<p>93 rows × 2 columns</p>\n",
       "</div>"
      ],
      "text/plain": [
       "                                    location         p\n",
       "0                                     aabach  0.608766\n",
       "1                              anarchy-beach  0.619628\n",
       "2                  ascona-traghetto-spiaggia  0.606723\n",
       "3                  augustmutzenbergstrandweg  0.292101\n",
       "4                          baby-plage-geneva  0.419333\n",
       "..                                       ...       ...\n",
       "88          zuerichsee_waedenswil_colomboc_1  0.295100\n",
       "89              zugerseecholler_cham_blarerm  0.285809\n",
       "90                            zurcher-strand  0.459357\n",
       "91  zurichsee_kusnachterhorn_thirkell-whitej  0.291816\n",
       "92         zurichsee_wollishofen_langendorfm  0.058602\n",
       "\n",
       "[93 rows x 2 columns]"
      ]
     },
     "execution_count": 17,
     "metadata": {},
     "output_type": "execute_result"
    }
   ],
   "source": [
    "inference_kwargs = {\n",
    "    'location': \" \",\n",
    "    'lake': \"\",\n",
    "    'conf_label': 'configuration',\n",
    "    'fgl_conf_keys':fgl_conf_keys,\n",
    "    'conf_columns': conf_columns,\n",
    "    'p_tables': fgl_ptables,\n",
    "    'tested':nx.grouped_data,\n",
    "    'prior':None,\n",
    "    'drop_vals': None\n",
    "}\n",
    "\n",
    "\n",
    "\n",
    "bsee_l = nx.grouped_data[nx.grouped_data.lake.isin(features_of_interest)].location.unique()\n",
    "res = []\n",
    "for alocation in bsee_l:\n",
    "    inference_kwargs.update({\"location\":alocation})\n",
    "    p=luse.inference_for_one_location(**inference_kwargs)\n",
    "    res.append({'location':alocation, 'p':p})\n",
    "\n",
    "lct = nx.test_results.test_and_merge()\n",
    "sct = strasse.test_results.test_and_merge(cover=False)\n",
    "rct = recreation.test_results.test_and_merge(cover=False)\n",
    "ict = infrastructure.test_results.test_and_merge(cover=False)\n",
    "dist_ct = distance.test_results.test_and_merge(cover=False)\n",
    "ints_ct = intersections.test_results.test_and_merge(cover=False)\n",
    "\n",
    "dfs = [lct, sct, rct, ict, dist_ct, ints_ct]\n",
    "\n",
    "print(code, threshhold)\n",
    "p_of = pd.DataFrame(res)\n",
    "p_of"
   ]
  },
  {
   "cell_type": "code",
   "execution_count": 18,
   "metadata": {
    "jupyter": {
     "source_hidden": true
    }
   },
   "outputs": [
    {
     "data": {
      "text/plain": [
       "count    93.000000\n",
       "mean      0.432058\n",
       "std       0.216879\n",
       "min       0.045455\n",
       "25%       0.266257\n",
       "50%       0.376590\n",
       "75%       0.634689\n",
       "max       0.922573\n",
       "Name: p, dtype: float64"
      ]
     },
     "execution_count": 18,
     "metadata": {},
     "output_type": "execute_result"
    }
   ],
   "source": [
    "p_of[\"p\"].describe()"
   ]
  },
  {
   "cell_type": "markdown",
   "metadata": {},
   "source": [
    "## Logistic regression"
   ]
  },
  {
   "cell_type": "markdown",
   "metadata": {},
   "source": [
    "### infrastructure"
   ]
  },
  {
   "cell_type": "code",
   "execution_count": 19,
   "metadata": {
    "jupyter": {
     "source_hidden": true
    },
    "tags": []
   },
   "outputs": [
    {
     "data": {
      "text/plain": [
       "[<matplotlib.lines.Line2D at 0x7f3e994b48b0>]"
      ]
     },
     "execution_count": 19,
     "metadata": {},
     "output_type": "execute_result"
    },
    {
     "data": {
      "image/png": "[encoded data removed]",
      "text/plain": [
       "<Figure size 640x480 with 1 Axes>"
      ]
     },
     "metadata": {},
     "output_type": "display_data"
    }
   ],
   "source": [
    "import statsmodels.formula.api as smf\n",
    "from scipy.special import expit\n",
    "to_test[\"failed\"] = (df.pcs_m > threshhold).astype('int')\n",
    "log_of = to_test[[\"location\", \"failed\"]].copy()\n",
    "log_of[\"infrastructure\"] = log_of.location.apply(lambda x: ict.loc[ict.location == x, \"infrastructure\"].values[0])\n",
    "log_of[\"infrastructure\"] = log_of.infrastructure/1000000\n",
    "\n",
    "obj_min, obj_max = log_of.infrastructure.min(), log_of.infrastructure.max()\n",
    "\n",
    "formula = 'failed ~ infrastructure'\n",
    "results = smf.logit(formula, data=log_of).fit(disp=False)\n",
    "inter = results.params['Intercept']\n",
    "slope = results.params['infrastructure']\n",
    "xs = np.arange(obj_min, obj_max, step=.1)\n",
    "\n",
    "log_odds = inter + slope * xs\n",
    "odds = np.exp(log_odds)\n",
    "\n",
    "ps_x = expit(inter + slope * xs)\n",
    "\n",
    "plt.plot(xs, ps_x)\n",
    "plt.plot(log_of[\"infrastructure\"], log_of[\"failed\"], 'o')"
   ]
  },
  {
   "cell_type": "markdown",
   "metadata": {},
   "source": [
    "### city"
   ]
  },
  {
   "cell_type": "code",
   "execution_count": 20,
   "metadata": {
    "jupyter": {
     "source_hidden": true
    },
    "tags": []
   },
   "outputs": [
    {
     "data": {
      "text/plain": [
       "[<matplotlib.lines.Line2D at 0x7f3e99396940>]"
      ]
     },
     "execution_count": 20,
     "metadata": {},
     "output_type": "execute_result"
    },
    {
     "data": {
      "image/png": "[encoded data removed]",
      "text/plain": [
       "<Figure size 640x480 with 1 Axes>"
      ]
     },
     "metadata": {},
     "output_type": "display_data"
    }
   ],
   "source": [
    "log_of = to_test[[\"location\", \"failed\"]].copy()\n",
    "log_of[\"Siedl\"] = log_of.location.apply(lambda x: lct.loc[lct.location == x, \"Siedl\"].values[0])\n",
    "log_of[\"Siedl\"] = log_of.Siedl/1000000\n",
    "\n",
    "obj_min, obj_max = log_of.Siedl.min(), log_of.Siedl.max()\n",
    "\n",
    "formula = 'failed ~ Siedl'\n",
    "results = smf.logit(formula, data=log_of).fit(disp=False)\n",
    "inter = results.params['Intercept']\n",
    "slope = results.params['Siedl']\n",
    "xs = np.arange(obj_min, obj_max, step=.1)\n",
    "\n",
    "log_odds = inter + slope * xs\n",
    "odds = np.exp(log_odds)\n",
    "\n",
    "ps_x = expit(inter + slope * xs)\n",
    "\n",
    "plt.plot(xs, ps_x)\n",
    "plt.plot(log_of[\"Siedl\"], log_of[\"failed\"], 'o')"
   ]
  },
  {
   "cell_type": "markdown",
   "metadata": {},
   "source": [
    "### forest"
   ]
  },
  {
   "cell_type": "code",
   "execution_count": 21,
   "metadata": {
    "jupyter": {
     "source_hidden": true
    },
    "tags": []
   },
   "outputs": [
    {
     "data": {
      "text/plain": [
       "[<matplotlib.lines.Line2D at 0x7f3e9930be20>]"
      ]
     },
     "execution_count": 21,
     "metadata": {},
     "output_type": "execute_result"
    },
    {
     "data": {
      "image/png": "[encoded data removed]",
      "text/plain": [
       "<Figure size 640x480 with 1 Axes>"
      ]
     },
     "metadata": {},
     "output_type": "display_data"
    }
   ],
   "source": [
    "log_of = to_test[[\"location\", \"failed\"]].copy()\n",
    "log_of[\"Wald\"] = log_of.location.apply(lambda x: lct.loc[lct.location == x, \"Wald\"].values[0])\n",
    "log_of[\"Wald\"] = log_of.Wald/1000000\n",
    "\n",
    "obj_min, obj_max = log_of.Wald.min(), log_of.Wald.max()\n",
    "\n",
    "formula = 'failed ~ Wald'\n",
    "results = smf.logit(formula, data=log_of).fit(disp=False)\n",
    "inter = results.params['Intercept']\n",
    "slope = results.params['Wald']\n",
    "xs = np.arange(obj_min, obj_max, step=.1)\n",
    "\n",
    "log_odds = inter + slope * xs\n",
    "odds = np.exp(log_odds)\n",
    "\n",
    "ps_x = expit(inter + slope * xs)\n",
    "\n",
    "plt.plot(xs, ps_x)\n",
    "plt.plot(log_of[\"Wald\"], log_of[\"failed\"], 'o')"
   ]
  },
  {
   "cell_type": "markdown",
   "metadata": {},
   "source": [
    "### undefined"
   ]
  },
  {
   "cell_type": "code",
   "execution_count": 22,
   "metadata": {
    "jupyter": {
     "source_hidden": true
    },
    "tags": []
   },
   "outputs": [
    {
     "data": {
      "text/plain": [
       "[<matplotlib.lines.Line2D at 0x7f3e99284ac0>]"
      ]
     },
     "execution_count": 22,
     "metadata": {},
     "output_type": "execute_result"
    },
    {
     "data": {
      "image/png": "[encoded data removed]",
      "text/plain": [
       "<Figure size 640x480 with 1 Axes>"
      ]
     },
     "metadata": {},
     "output_type": "display_data"
    }
   ],
   "source": [
    "log_of = to_test[[\"location\", \"failed\"]].copy()\n",
    "log_of[\"Undefined\"] = log_of.location.apply(lambda x: lct.loc[lct.location == x, \"Undefined\"].values[0])\n",
    "log_of[\"Undefined\"] = log_of.Undefined/1000000\n",
    "\n",
    "obj_min, obj_max = log_of.Undefined.min(), log_of.Undefined.max()\n",
    "\n",
    "formula = 'failed ~ Undefined'\n",
    "results = smf.logit(formula, data=log_of).fit(disp=False)\n",
    "inter = results.params['Intercept']\n",
    "slope = results.params['Undefined']\n",
    "xs = np.arange(obj_min, obj_max, step=.1)\n",
    "\n",
    "log_odds = inter + slope * xs\n",
    "odds = np.exp(log_odds)\n",
    "\n",
    "ps_x = expit(inter + slope * xs)\n",
    "\n",
    "plt.plot(xs, ps_x)\n",
    "plt.plot(log_of[\"Undefined\"], log_of[\"failed\"], 'o')"
   ]
  },
  {
   "cell_type": "markdown",
   "metadata": {},
   "source": [
    "### recreation"
   ]
  },
  {
   "cell_type": "code",
   "execution_count": 23,
   "metadata": {
    "jupyter": {
     "source_hidden": true
    },
    "tags": []
   },
   "outputs": [
    {
     "data": {
      "text/plain": [
       "[<matplotlib.lines.Line2D at 0x7f3e99215250>]"
      ]
     },
     "execution_count": 23,
     "metadata": {},
     "output_type": "execute_result"
    },
    {
     "data": {
      "image/png": "[encoded data removed]",
      "text/plain": [
       "<Figure size 640x480 with 1 Axes>"
      ]
     },
     "metadata": {},
     "output_type": "display_data"
    }
   ],
   "source": [
    "log_of = to_test[[\"location\", \"failed\"]].copy()\n",
    "log_of[\"recreation\"] = log_of.location.apply(lambda x: rct.loc[rct.location == x, \"recreation\"].values[0])\n",
    "log_of[\"recreation\"] = log_of.recreation/1000000\n",
    "\n",
    "obj_min, obj_max = log_of.recreation.min(), log_of.recreation.max()\n",
    "\n",
    "formula = 'failed ~ recreation'\n",
    "results = smf.logit(formula, data=log_of).fit(disp=False)\n",
    "inter = results.params['Intercept']\n",
    "slope = results.params['recreation']\n",
    "xs = np.arange(obj_min, obj_max, step=.1)\n",
    "\n",
    "log_odds = inter + slope * xs\n",
    "odds = np.exp(log_odds)\n",
    "\n",
    "ps_x = expit(inter + slope * xs)\n",
    "\n",
    "plt.plot(xs, ps_x)\n",
    "plt.plot(log_of[\"recreation\"], log_of[\"failed\"], 'o')"
   ]
  },
  {
   "cell_type": "markdown",
   "metadata": {},
   "source": [
    "### distance to"
   ]
  },
  {
   "cell_type": "code",
   "execution_count": 24,
   "metadata": {
    "jupyter": {
     "source_hidden": true
    },
    "tags": []
   },
   "outputs": [
    {
     "data": {
      "text/plain": [
       "[<matplotlib.lines.Line2D at 0x7f3e99195160>]"
      ]
     },
     "execution_count": 24,
     "metadata": {},
     "output_type": "execute_result"
    },
    {
     "data": {
      "image/png": "[encoded data removed]",
      "text/plain": [
       "<Figure size 640x480 with 1 Axes>"
      ]
     },
     "metadata": {},
     "output_type": "display_data"
    }
   ],
   "source": [
    "log_of = to_test[[\"location\", \"failed\"]].copy()\n",
    "\n",
    "log_of[\"r-distance\"] = log_of.location.apply(lambda x: dist_ct.loc[dist_ct.location == x, \"r-distance\"].values[0])\n",
    "log_of[\"r-distance\"] = log_of[\"r-distance\"]/1000\n",
    "log_of.rename(columns={'r-distance':'r_distance'}, inplace=True)\n",
    "\n",
    "obj_min, obj_max = log_of[\"r_distance\"].min(), log_of[\"r_distance\"].max()\n",
    "\n",
    "formula = 'failed ~ r_distance'\n",
    "results = smf.logit(formula, data=log_of).fit(disp=False)\n",
    "inter = results.params['Intercept']\n",
    "slope = results.params['r_distance']\n",
    "xs = np.arange(obj_min, obj_max, step=.1)\n",
    "\n",
    "log_odds = inter + slope * xs\n",
    "odds = np.exp(log_odds)\n",
    "\n",
    "ps_x = expit(inter + slope * xs)\n",
    "\n",
    "plt.plot(xs, ps_x)\n",
    "plt.plot(log_of[\"r_distance\"], log_of[\"failed\"], 'o')"
   ]
  },
  {
   "cell_type": "markdown",
   "metadata": {},
   "source": [
    "### river length"
   ]
  },
  {
   "cell_type": "code",
   "execution_count": 25,
   "metadata": {
    "jupyter": {
     "source_hidden": true
    },
    "tags": []
   },
   "outputs": [
    {
     "data": {
      "text/plain": [
       "[<matplotlib.lines.Line2D at 0x7f3e9910dbb0>]"
      ]
     },
     "execution_count": 25,
     "metadata": {},
     "output_type": "execute_result"
    },
    {
     "data": {
      "image/png": "[encoded data removed]",
      "text/plain": [
       "<Figure size 640x480 with 1 Axes>"
      ]
     },
     "metadata": {},
     "output_type": "display_data"
    }
   ],
   "source": [
    "log_of = to_test[[\"location\", \"failed\"]].copy()\n",
    "\n",
    "log_of[\"r-length\"] = log_of.location.apply(lambda x: ints_ct.loc[ints_ct.location == x, \"r-length\"].values[0])\n",
    "log_of[\"r-length\"] = log_of[\"r-length\"]/1000\n",
    "log_of.rename(columns={'r-length':'r_length'}, inplace=True)\n",
    "\n",
    "obj_min, obj_max = log_of[\"r_length\"].min(), log_of[\"r_length\"].max()\n",
    "\n",
    "formula = 'failed ~ r_length'\n",
    "results = smf.logit(formula, data=log_of).fit(disp=False)\n",
    "inter = results.params['Intercept']\n",
    "slope = results.params['r_length']\n",
    "xs = np.arange(obj_min, obj_max, step=.1)\n",
    "\n",
    "log_odds = inter + slope * xs\n",
    "odds = np.exp(log_odds)\n",
    "\n",
    "ps_x = expit(inter + slope * xs)\n",
    "\n",
    "plt.plot(xs, ps_x)\n",
    "plt.plot(log_of[\"r_length\"], log_of[\"failed\"], 'o')"
   ]
  },
  {
   "cell_type": "code",
   "execution_count": 26,
   "metadata": {
    "pycharm": {
     "name": "#%%\n"
    },
    "tags": [
     "remove-input"
    ]
   },
   "outputs": [
    {
     "data": {
      "text/markdown": [
       "\n",
       "\n",
       "This script updated 03/05/2023 in Biel, CH\n",
       "\n",
       "> ❤️ what you do everyday\n",
       "\n",
       "*analyst at hammerdirt*\n"
      ],
      "text/plain": [
       "<IPython.core.display.Markdown object>"
      ]
     },
     "execution_count": 26,
     "metadata": {},
     "output_type": "execute_result"
    }
   ],
   "source": [
    "today = dt.datetime.now().date().strftime(\"%d/%m/%Y\")\n",
    "where = \"Biel, CH\"\n",
    "\n",
    "my_block = f\"\"\"\n",
    "\n",
    "This script updated {today} in {where}\n",
    "\n",
    "> \\u2764\\ufe0f what you do everyday\n",
    "\n",
    "*analyst at hammerdirt*\n",
    "\"\"\"\n",
    "\n",
    "md(my_block)"
   ]
  },
  {
   "cell_type": "code",
   "execution_count": 27,
   "metadata": {
    "pycharm": {
     "name": "#%%\n"
    },
    "tags": [
     "remove-input"
    ]
   },
   "outputs": [
    {
     "name": "stdout",
     "output_type": "stream",
     "text": [
      "Git repo: https://github.com/hammerdirt-analyst/landuse.git\n",
      "\n",
      "Git branch: probability\n",
      "\n",
      "json       : 2.0.9\n",
      "statsmodels: 0.13.5\n",
      "PIL        : 9.5.0\n",
      "pandas     : 2.0.0\n",
      "numpy      : 1.24.2\n",
      "IPython    : 8.12.0\n",
      "seaborn    : 0.12.2\n",
      "matplotlib : 3.7.1\n",
      "scipy      : 1.10.1\n",
      "\n"
     ]
    }
   ],
   "source": [
    "%watermark --iversions -b -r"
   ]
  }
 ],
 "metadata": {
  "kernelspec": {
   "display_name": "Python 3 (ipykernel)",
   "language": "python",
   "name": "python3"
  },
  "language_info": {
   "codemirror_mode": {
    "name": "ipython",
    "version": 3
   },
   "file_extension": ".py",
   "mimetype": "text/x-python",
   "name": "python",
   "nbconvert_exporter": "python",
   "pygments_lexer": "ipython3",
   "version": "3.9.16"
  }
 },
 "nbformat": 4,
 "nbformat_minor": 4
}
