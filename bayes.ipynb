{
 "cells": [
  {
   "cell_type": "code",
   "execution_count": 1,
   "metadata": {
    "tags": [
     "hide-input"
    ]
   },
   "outputs": [],
   "source": [
    "# sys, file and nav packages:\n",
    "import datetime as dt\n",
    "import json\n",
    "\n",
    "# math packages:\n",
    "import pandas as pd\n",
    "import numpy as np\n",
    "from scipy import stats\n",
    "from statsmodels.distributions.empirical_distribution import ECDF\n",
    "\n",
    "# charting:\n",
    "import matplotlib as mpl\n",
    "import matplotlib.pyplot as plt\n",
    "import matplotlib.dates as mdates\n",
    "from matplotlib import ticker\n",
    "from matplotlib import colors\n",
    "from matplotlib.colors import LinearSegmentedColormap\n",
    "from matplotlib.gridspec import GridSpec\n",
    "import seaborn as sns\n",
    "\n",
    "import base64, io, IPython\n",
    "from PIL import Image as PILImage\n",
    "from IPython.display import Markdown as md\n",
    "from IPython.display import display, Math, Latex\n",
    "\n",
    "# set some parameters:\n",
    "today = dt.datetime.now().date().strftime(\"%Y-%m-%d\")\n",
    "start_date = '2020-03-01'\n",
    "end_date ='2021-05-31'\n",
    "\n",
    "a_fail_rate = 100\n",
    "\n",
    "unit_label = 'p/100m'\n",
    "reporting_unit = 100\n",
    "\n",
    "# name of the output folder:\n",
    "name_of_project = 'dist_map'\n",
    "\n",
    "# get your data:\n",
    "df= pd.read_csv('checked_sdata_eos_2020_21.csv')\n",
    "\n",
    "with open(\"river_basins.json\", \"r\") as infile:\n",
    "    river_bassins = json.load(infile)\n",
    "\n",
    "dfBeaches = pd.read_csv(\"beaches_with_land_use_rates.csv\")\n",
    "dfCodes = pd.read_csv(\"codes_with_group_names_2015.csv\")\n",
    "dfDims = pd.read_csv(\"corrected_dims.csv\")\n",
    "\n",
    "# set the index of the beach data to location slug\n",
    "dfBeaches.set_index('slug', inplace=True)\n",
    "        \n",
    "dfCodes.set_index(\"code\", inplace=True)"
   ]
  },
  {
   "cell_type": "markdown",
   "metadata": {},
   "source": [
    "# Changes in Spearmans $\\rho$ as buffer size changes\n",
    "\n",
    "Spearmans ranked test for correlation is being used to test the association of the number of objects found on the beach with the type of land use within a defined radius of the location where the objects were found.\n",
    "\n",
    "The national survey on land use is the source for the classification of land use types. For every 100m² of the national territory there is an attributed land use classification based on the analysis of aerial images."
   ]
  },
  {
   "cell_type": "code",
   "execution_count": 2,
   "metadata": {
    "tags": []
   },
   "outputs": [],
   "source": [
    "# this is the aggregated survey data that is being used\n",
    "fd = df.copy()\n",
    "fd['loc_dates'] = list(zip(fd.location.values, fd.date.values))\n",
    "fd['date'] = pd.to_datetime(fd.date)\n",
    "\n",
    "# the location data for the surveys\n",
    "dfb = dfBeaches.loc[fd.location.unique()].copy()"
   ]
  },
  {
   "cell_type": "code",
   "execution_count": 3,
   "metadata": {
    "jupyter": {
     "source_hidden": true
    },
    "tags": []
   },
   "outputs": [],
   "source": [
    "# the landuse descriptors are integers, key them to a readable descriptor\n",
    "# no27 is the results of intersecting buffer to Land use\n",
    "label_keys = {\n",
    "    1:\"industrial\",\n",
    "    2:\"residential\",\n",
    "    3:\"government\",\n",
    "    4:\"agg_buildings\",\n",
    "    5:\"unk_building\",\n",
    "    6:\"roads\",\n",
    "    7:\"railways\",\n",
    "    8:\"airports\",\n",
    "    9:\"special\",\n",
    "    10:\"recreational\",\n",
    "    11:\"orchards\",\n",
    "    12:\"vineyards\",\n",
    "    13:\"horticulture\",\n",
    "    14:\"arable\",\n",
    "    15:\"meadows\",\n",
    "    16:\"farmpastures\",\n",
    "    17:\"alpinemeadows\",\n",
    "    18:\"aplinepasteurs\",\n",
    "    19:\"closed_forest\",\n",
    "    20:\"open_forest\",\n",
    "    21:\"brush_forest\",\n",
    "    22:\"woods\",\n",
    "    23:\"lakes\",\n",
    "    24:\"rivers\",\n",
    "    25:\"unproductive\",\n",
    "    26:\"bareland\",\n",
    "    27:\"glaciers\"\n",
    "}\n",
    "\n",
    "# group the land use into functional groups\n",
    "group_parts = {'buildings':[2,3,4,5,9],\n",
    "               'ind':[1],              \n",
    "               'trans':[6,7,8],\n",
    "               'recreation':[10],\n",
    "               'agg':[11, 12, 13, 14, 15, 16, 18],\n",
    "               'woods':[17,19,20,21,22],\n",
    "               'water':[23,24],\n",
    "               'unproductive':[25,26,27]\n",
    "              }\n",
    "\n",
    "# make column names based on the key values:\n",
    "as_1827_part ={k:F\"part_{v}\" for k,v in label_keys.items()}\n",
    "\n",
    "# map survey results to these aggregated luse features\n",
    "som_cols = ['% to buildings',\n",
    "            '% to ind',\n",
    "            '% to trans',\n",
    "            '% to recreation',\n",
    "            '% to agg',\n",
    "            '% to woods',\n",
    "            '% to water',\n",
    "            '% to unproductive',\n",
    "                \n",
    "]\n",
    "\n",
    "# define functions to map luse data to survey locations\n",
    "def aggregate_buffer_data(data, cols, bufferdata, label_keys, **kwargs):\n",
    "    \n",
    "    # make empty columns for the measured land use features\n",
    "    for acol in cols:\n",
    "        data[acol]= 0\n",
    "\n",
    "    # assign values to each column\n",
    "    for beach in data.index:\n",
    "        for label in list(label_keys.values()):        \n",
    "            try:\n",
    "                new_data = bufferdata[(bufferdata.slug == beach)&(bufferdata.label == label)].AS18_27.values[0]\n",
    "            except:\n",
    "                new_data = 0\n",
    "            data.loc[beach, label] = new_data\n",
    "    return data\n",
    "\n",
    "# account for the area attributed to water by removing the\n",
    "# the value of water features from land use total\n",
    "def adjusted_land_use(data, col_keys):\n",
    "    # total land use\n",
    "    data['luse_total'] = data.loc[:,list(col_keys.values())].sum(axis=1)\n",
    "\n",
    "    # amount attributed to water\n",
    "    data['water_value'] = data.loc[:, ['lakes','rivers']].sum(axis=1)\n",
    "\n",
    "    # the adjsuted land use\n",
    "    # remove the water value from land use stats\n",
    "    data['adjusted_land_use'] = data.luse_total - data.water_value\n",
    "    \n",
    "    return data\n",
    "\n",
    "# determine the ration of each landuse feature to the adjusted total for each buffer\n",
    "def account_for_adj_luse(data, col_keys):\n",
    "    for label in list(col_keys.values()):\n",
    "        a_label = F\"part_{label}\"\n",
    "        data[a_label] = data[label]/data['adjusted_land_use']\n",
    "    return data\n",
    "\n",
    "# aggregate the groups\n",
    "def aggregate_the_luse_groups(data, groups, group_parts, as_1827_part):\n",
    "    for a_group in group_parts.keys():\n",
    "        part_groups = [as_1827_part[x] for x in group_parts[a_group]]\n",
    "        new_group = F\"% to {a_group}\"\n",
    "        data[new_group] = data.loc[:,part_groups].sum(axis=1)\n",
    "    \n",
    "    return data\n",
    "\n",
    "# merge survey results to land use stats\n",
    "def assign_luse_stat_to_survey_results(sdata, luse_data, som_cols):\n",
    "    for a_beach in sdata.location.unique():\n",
    "        for element in som_cols:\n",
    "            sdata.loc[sdata.location == a_beach, element] = luse_data.loc[a_beach, element]\n",
    "    return sdata\n",
    "\n",
    "# apply method and check results\n",
    "def check_hypothesis(this_data, some_codes, variables, method):\n",
    "    myresults = {}\n",
    "    for i,code in enumerate(some_codes):\n",
    "        data = this_data[this_data.code == code]\n",
    "        code_results ={code:{}}\n",
    "        for j, n in enumerate(variables):\n",
    "            corr, a_p = method(data[n], data[unit_label])\n",
    "            if a_p <= 0.05:\n",
    "                code_results[code].update({n:corr})\n",
    "        myresults.update(code_results)\n",
    "    \n",
    "    return myresults"
   ]
  },
  {
   "cell_type": "markdown",
   "metadata": {
    "tags": []
   },
   "source": [
    "### 1500 meters codes with an association to a landuse feature\n",
    "\n",
    "Where p <= 0.05 for Spearmans test for association."
   ]
  },
  {
   "cell_type": "code",
   "execution_count": 4,
   "metadata": {
    "jupyter": {
     "source_hidden": true
    },
    "tags": []
   },
   "outputs": [],
   "source": [
    "# no27 = pd.read_csv(\"noas04_27.csv\")\n",
    "\n",
    "# # the buffer results from qgis\n",
    "# lu_1500 = no27[[\"AS18_27\", \"slug\"]].copy()\n",
    "# lu_1500.rename(columns={'location':'slug'}, inplace=True)\n",
    "\n",
    "# # make a df with location slug, landuse label and land use value:\n",
    "# for a_num in lu_1500.AS18_27.unique():\n",
    "#     lu_1500.loc[lu_1500.AS18_27==a_num, \"label\"]=label_keys[a_num]\n",
    "\n",
    "# # the locations that need land use data\n",
    "# data = pd.DataFrame(index = fd.location.unique())\n",
    "\n",
    "# # records with a quantity greater than 30\n",
    "# abundant_codes = fd[fd.quantity > 20].code.unique()\n",
    "\n",
    "# # getting a list of the current landuse categories\n",
    "# add_these_cols = lu_1500.label.unique()\n",
    "\n",
    "# # counting the number of points inside the buffer for each category and location\n",
    "# bufferdata = lu_1500.groupby(['slug','label'], as_index=False).AS18_27.count()\n",
    "\n",
    "# these_groups = list(group_parts.keys())\n",
    "\n",
    "# some_data = aggregate_buffer_data(data, add_these_cols, bufferdata, label_keys)\n",
    "\n",
    "# sd_0 = adjusted_land_use(some_data, label_keys)\n",
    "\n",
    "# sd_1 = account_for_adj_luse(data, label_keys)\n",
    "\n",
    "# sd_1500 = aggregate_the_luse_groups(data, add_these_cols, group_parts, as_1827_part)\n",
    "# sd_1500['dist'] = 1500\n",
    "\n",
    "\n",
    "# fd_luse = assign_luse_stat_to_survey_results(fd, sd_1500,som_cols)    \n",
    "\n",
    "# this_data = fd_luse[[unit_label,*som_cols, 'code']]\n",
    "\n",
    "# myresults = check_hypothesis(this_data, abundant_codes, som_cols, stats.spearmanr)\n",
    "\n",
    "# srho_results_1500 = pd.DataFrame.from_dict(myresults, orient='index')\n",
    "# srho_results_1500.fillna(\"X\", inplace=True)\n",
    "# srho_results_1500['dist'] = 1500\n",
    "\n",
    "# # the survey data with land use attached"
   ]
  },
  {
   "cell_type": "code",
   "execution_count": 5,
   "metadata": {},
   "outputs": [
    {
     "data": {
      "text/plain": [
       "Index(['date', 'code', 'pcs_m', 'quantity', 'location', 'loc_date',\n",
       "       'water_name_slug', 'river_bassin', 'length', 'ilength', 'groupname',\n",
       "       'city', 'population', 'intersects', 'fail', '% to buildings',\n",
       "       '% to trans', '% to recreation', '% to agg', '% to woods', '% to water',\n",
       "       '% to unproductive', 'streets', 'month', 'eom', 'material', 'w_t',\n",
       "       'streets km', 'p/100m', 'area', 'loc_dates'],\n",
       "      dtype='object')"
      ]
     },
     "execution_count": 5,
     "metadata": {},
     "output_type": "execute_result"
    }
   ],
   "source": [
    "fd.columns"
   ]
  },
  {
   "cell_type": "markdown",
   "metadata": {},
   "source": [
    "## The cookie problem revisited, using trash data\n",
    "\n",
    "reference: [ThinkBayes2](http://allendowney.github.io/ThinkBayes2/chap03.html)\n",
    "\n",
    "There are 4 survey areas. Imagine the collected objects were put into four separate piles (all 54,000 objects). One four each survey area.\n",
    "\n",
    "Without looking at the pile, you choose one object at random from one of the piles.\n",
    "\n",
    "* What is the chance that you will pull one Gfrags from any of the piles?\n",
    "\n",
    "* Suppose you pull out one G112, what is the chance of that happening? Which survey area do you suppose it came from (what pile do you suppose it came from)"
   ]
  },
  {
   "cell_type": "markdown",
   "metadata": {},
   "source": [
    "The question is asking to choose from a pile of existing objects. Survey values equal to zero can be excluded\n",
    "\n",
    "The probability of pulling a Gfrags from a pile would be equal to the sum of the probabilities of finding a Gfrags in each pile"
   ]
  },
  {
   "cell_type": "code",
   "execution_count": 6,
   "metadata": {},
   "outputs": [],
   "source": [
    "# remove zero values\n",
    "data = fd[fd.quantity>0].copy()\n",
    "\n",
    "qtot = data.groupby('river_bassin').quantity.sum()\n",
    "qgfrag = data[data.code == \"Gfrags\"].groupby(['river_bassin']).quantity.sum()"
   ]
  },
  {
   "cell_type": "code",
   "execution_count": 7,
   "metadata": {},
   "outputs": [
    {
     "data": {
      "text/plain": [
       "0.13517463100979102"
      ]
     },
     "execution_count": 7,
     "metadata": {},
     "output_type": "execute_result"
    }
   ],
   "source": [
    "# the ratio of Gfrags to all other objects:\n",
    "rgfrag = qgfrag.sum()/qtot.sum()\n",
    "rgfrag"
   ]
  },
  {
   "cell_type": "code",
   "execution_count": 8,
   "metadata": {},
   "outputs": [
    {
     "data": {
      "text/plain": [
       "river_bassin\n",
       "aare            0.25\n",
       "linth           0.25\n",
       "rhone           0.25\n",
       "ticino          0.25\n",
       "dtype: float64"
      ]
     },
     "execution_count": 8,
     "metadata": {},
     "output_type": "execute_result"
    }
   ],
   "source": [
    "# the chance that one of the survey areas will be selected\n",
    "# the prior probability\n",
    "prbasin = pd.Series([.25]*4, index=[qtot.index])\n",
    "prbasin"
   ]
  },
  {
   "cell_type": "code",
   "execution_count": 9,
   "metadata": {},
   "outputs": [
    {
     "data": {
      "text/plain": [
       "river_bassin\n",
       "aare      0.144724\n",
       "linth     0.097429\n",
       "rhone     0.148310\n",
       "ticino    0.085450\n",
       "Name: quantity, dtype: float64"
      ]
     },
     "execution_count": 9,
     "metadata": {},
     "output_type": "execute_result"
    }
   ],
   "source": [
    "# the ration of Gfrags in each survey area\n",
    "# update the the probability with new data\n",
    "# the probability of Gfrag given a survey area P(Gfrag|Survey area)\n",
    "pgfrag = qgfrag/qtot\n",
    "pgfrag"
   ]
  },
  {
   "cell_type": "code",
   "execution_count": 10,
   "metadata": {},
   "outputs": [
    {
     "data": {
      "text/plain": [
       "array([0.03618112, 0.0243572 , 0.03707739, 0.02136259])"
      ]
     },
     "execution_count": 10,
     "metadata": {},
     "output_type": "execute_result"
    }
   ],
   "source": [
    "# unormalized posteriors\n",
    "pgfragbasin = prbasin.to_numpy() * pgfrag.to_numpy()\n",
    "pgfragbasin"
   ]
  },
  {
   "cell_type": "code",
   "execution_count": 11,
   "metadata": {},
   "outputs": [
    {
     "data": {
      "text/plain": [
       "[0.3040984962070841,\n",
       " 0.20471971331403258,\n",
       " 0.31163151522311155,\n",
       " 0.1795502752557717]"
      ]
     },
     "execution_count": 11,
     "metadata": {},
     "output_type": "execute_result"
    }
   ],
   "source": [
    "# normalize the probabilities\n",
    "new_probs = [(x)/sum(pgfragbasin) for x in pgfragbasin]\n",
    "\n",
    "# the probability that Gfrags came from one survey area or the other\n",
    "new_probs"
   ]
  },
  {
   "cell_type": "markdown",
   "metadata": {},
   "source": [
    "There is a 13% chance of pulling a Grags from the collection of objects. But the Gfrags most likely came from the Rhône or Aare survey areas."
   ]
  },
  {
   "cell_type": "markdown",
   "metadata": {},
   "source": [
    "## Credible intervals\n",
    "\n",
    "The sample problem from [ThinkBayes2 Chap 5](http://allendowney.github.io/ThinkBayes2/chap05.html#credible-intervals)\n",
    "\n",
    "\n",
    "Any object has some probability of being found at any survey. It is reasonable to assume that the probability of an object being found at any location depends on the features of the location and the object. It is also reasonable to assume that locations that have common features would have results that are similar for the same object categories."
   ]
  },
  {
   "cell_type": "markdown",
   "metadata": {},
   "source": [
    "### Mean of the posterior distribution\n",
    "\n",
    "Example from the book"
   ]
  },
  {
   "cell_type": "code",
   "execution_count": 12,
   "metadata": {},
   "outputs": [],
   "source": [
    "hypos = np.arange(1, 1001)\n",
    "prior = pd.Series(data=[1]*len(hypos), index=hypos)\n",
    "limit = 60\n",
    "def update_train(pmf, limit):\n",
    "    \"\"\"Update pmf based on new data.\"\"\"\n",
    "    hypos = pmf.index.values\n",
    "    likelihood = 1 / hypos\n",
    "    impossible = (limit > hypos)\n",
    "    likelihood[impossible] = 0\n",
    "    pmf *= likelihood\n",
    "    pmf /= pmf.sum() # normalize\n",
    "\n",
    "posterior = prior.copy()\n",
    "update_train(posterior, limit)"
   ]
  },
  {
   "cell_type": "code",
   "execution_count": 13,
   "metadata": {},
   "outputs": [
    {
     "data": {
      "text/plain": [
       "<AxesSubplot:>"
      ]
     },
     "execution_count": 13,
     "metadata": {},
     "output_type": "execute_result"
    },
    {
     "data": {
      "image/png": "[encoded data removed]",
      "text/plain": [
       "<Figure size 432x288 with 1 Axes>"
      ]
     },
     "metadata": {
      "needs_background": "light"
     },
     "output_type": "display_data"
    }
   ],
   "source": [
    "sns.lineplot(x=posterior.index, y=posterior)"
   ]
  },
  {
   "cell_type": "code",
   "execution_count": 14,
   "metadata": {},
   "outputs": [
    {
     "data": {
      "text/plain": [
       "333.41989326370776"
      ]
     },
     "execution_count": 14,
     "metadata": {},
     "output_type": "execute_result"
    }
   ],
   "source": [
    "# the mean of the posterior distribution\n",
    "(posterior*posterior.index.values).sum()"
   ]
  },
  {
   "cell_type": "code",
   "execution_count": 15,
   "metadata": {},
   "outputs": [
    {
     "data": {
      "text/html": [
       "<div>\n",
       "<style scoped>\n",
       "    .dataframe tbody tr th:only-of-type {\n",
       "        vertical-align: middle;\n",
       "    }\n",
       "\n",
       "    .dataframe tbody tr th {\n",
       "        vertical-align: top;\n",
       "    }\n",
       "\n",
       "    .dataframe thead th {\n",
       "        text-align: right;\n",
       "    }\n",
       "</style>\n",
       "<table border=\"1\" class=\"dataframe\">\n",
       "  <thead>\n",
       "    <tr style=\"text-align: right;\">\n",
       "      <th></th>\n",
       "      <th>date</th>\n",
       "      <th>code</th>\n",
       "      <th>pcs_m</th>\n",
       "      <th>quantity</th>\n",
       "      <th>location</th>\n",
       "      <th>loc_date</th>\n",
       "      <th>water_name_slug</th>\n",
       "      <th>river_bassin</th>\n",
       "      <th>length</th>\n",
       "      <th>ilength</th>\n",
       "      <th>...</th>\n",
       "      <th>% to unproductive</th>\n",
       "      <th>streets</th>\n",
       "      <th>month</th>\n",
       "      <th>eom</th>\n",
       "      <th>material</th>\n",
       "      <th>w_t</th>\n",
       "      <th>streets km</th>\n",
       "      <th>p/100m</th>\n",
       "      <th>area</th>\n",
       "      <th>loc_dates</th>\n",
       "    </tr>\n",
       "  </thead>\n",
       "  <tbody>\n",
       "    <tr>\n",
       "      <th>0</th>\n",
       "      <td>2021-05-01</td>\n",
       "      <td>G191</td>\n",
       "      <td>0.01</td>\n",
       "      <td>1</td>\n",
       "      <td>maladaire</td>\n",
       "      <td>('maladaire', '2021-05-01')</td>\n",
       "      <td>lac-leman</td>\n",
       "      <td>rhone</td>\n",
       "      <td>77.0</td>\n",
       "      <td>77.714286</td>\n",
       "      <td>...</td>\n",
       "      <td>0.0</td>\n",
       "      <td>75317</td>\n",
       "      <td>5</td>\n",
       "      <td>2021-05-31</td>\n",
       "      <td>Metal</td>\n",
       "      <td>l</td>\n",
       "      <td>75.317</td>\n",
       "      <td>1.0</td>\n",
       "      <td>0</td>\n",
       "      <td>(maladaire, 2021-05-01)</td>\n",
       "    </tr>\n",
       "    <tr>\n",
       "      <th>1</th>\n",
       "      <td>2021-05-01</td>\n",
       "      <td>G35</td>\n",
       "      <td>0.01</td>\n",
       "      <td>1</td>\n",
       "      <td>maladaire</td>\n",
       "      <td>('maladaire', '2021-05-01')</td>\n",
       "      <td>lac-leman</td>\n",
       "      <td>rhone</td>\n",
       "      <td>77.0</td>\n",
       "      <td>77.714286</td>\n",
       "      <td>...</td>\n",
       "      <td>0.0</td>\n",
       "      <td>75317</td>\n",
       "      <td>5</td>\n",
       "      <td>2021-05-31</td>\n",
       "      <td>Plastic</td>\n",
       "      <td>l</td>\n",
       "      <td>75.317</td>\n",
       "      <td>1.0</td>\n",
       "      <td>0</td>\n",
       "      <td>(maladaire, 2021-05-01)</td>\n",
       "    </tr>\n",
       "    <tr>\n",
       "      <th>2</th>\n",
       "      <td>2021-05-01</td>\n",
       "      <td>G21</td>\n",
       "      <td>0.01</td>\n",
       "      <td>1</td>\n",
       "      <td>maladaire</td>\n",
       "      <td>('maladaire', '2021-05-01')</td>\n",
       "      <td>lac-leman</td>\n",
       "      <td>rhone</td>\n",
       "      <td>77.0</td>\n",
       "      <td>77.714286</td>\n",
       "      <td>...</td>\n",
       "      <td>0.0</td>\n",
       "      <td>75317</td>\n",
       "      <td>5</td>\n",
       "      <td>2021-05-31</td>\n",
       "      <td>Plastic</td>\n",
       "      <td>l</td>\n",
       "      <td>75.317</td>\n",
       "      <td>1.0</td>\n",
       "      <td>0</td>\n",
       "      <td>(maladaire, 2021-05-01)</td>\n",
       "    </tr>\n",
       "    <tr>\n",
       "      <th>3</th>\n",
       "      <td>2021-05-01</td>\n",
       "      <td>G67</td>\n",
       "      <td>0.03</td>\n",
       "      <td>2</td>\n",
       "      <td>maladaire</td>\n",
       "      <td>('maladaire', '2021-05-01')</td>\n",
       "      <td>lac-leman</td>\n",
       "      <td>rhone</td>\n",
       "      <td>77.0</td>\n",
       "      <td>77.714286</td>\n",
       "      <td>...</td>\n",
       "      <td>0.0</td>\n",
       "      <td>75317</td>\n",
       "      <td>5</td>\n",
       "      <td>2021-05-31</td>\n",
       "      <td>Plastic</td>\n",
       "      <td>l</td>\n",
       "      <td>75.317</td>\n",
       "      <td>3.0</td>\n",
       "      <td>0</td>\n",
       "      <td>(maladaire, 2021-05-01)</td>\n",
       "    </tr>\n",
       "    <tr>\n",
       "      <th>4</th>\n",
       "      <td>2021-05-01</td>\n",
       "      <td>G23</td>\n",
       "      <td>0.01</td>\n",
       "      <td>1</td>\n",
       "      <td>maladaire</td>\n",
       "      <td>('maladaire', '2021-05-01')</td>\n",
       "      <td>lac-leman</td>\n",
       "      <td>rhone</td>\n",
       "      <td>77.0</td>\n",
       "      <td>77.714286</td>\n",
       "      <td>...</td>\n",
       "      <td>0.0</td>\n",
       "      <td>75317</td>\n",
       "      <td>5</td>\n",
       "      <td>2021-05-31</td>\n",
       "      <td>Plastic</td>\n",
       "      <td>l</td>\n",
       "      <td>75.317</td>\n",
       "      <td>1.0</td>\n",
       "      <td>0</td>\n",
       "      <td>(maladaire, 2021-05-01)</td>\n",
       "    </tr>\n",
       "  </tbody>\n",
       "</table>\n",
       "<p>5 rows × 31 columns</p>\n",
       "</div>"
      ],
      "text/plain": [
       "        date  code  pcs_m  quantity   location                     loc_date  \\\n",
       "0 2021-05-01  G191   0.01         1  maladaire  ('maladaire', '2021-05-01')   \n",
       "1 2021-05-01   G35   0.01         1  maladaire  ('maladaire', '2021-05-01')   \n",
       "2 2021-05-01   G21   0.01         1  maladaire  ('maladaire', '2021-05-01')   \n",
       "3 2021-05-01   G67   0.03         2  maladaire  ('maladaire', '2021-05-01')   \n",
       "4 2021-05-01   G23   0.01         1  maladaire  ('maladaire', '2021-05-01')   \n",
       "\n",
       "  water_name_slug river_bassin  length    ilength  ... % to unproductive  \\\n",
       "0       lac-leman        rhone    77.0  77.714286  ...               0.0   \n",
       "1       lac-leman        rhone    77.0  77.714286  ...               0.0   \n",
       "2       lac-leman        rhone    77.0  77.714286  ...               0.0   \n",
       "3       lac-leman        rhone    77.0  77.714286  ...               0.0   \n",
       "4       lac-leman        rhone    77.0  77.714286  ...               0.0   \n",
       "\n",
       "  streets  month         eom  material  w_t  streets km  p/100m  area  \\\n",
       "0   75317      5  2021-05-31     Metal    l      75.317     1.0     0   \n",
       "1   75317      5  2021-05-31   Plastic    l      75.317     1.0     0   \n",
       "2   75317      5  2021-05-31   Plastic    l      75.317     1.0     0   \n",
       "3   75317      5  2021-05-31   Plastic    l      75.317     3.0     0   \n",
       "4   75317      5  2021-05-31   Plastic    l      75.317     1.0     0   \n",
       "\n",
       "                 loc_dates  \n",
       "0  (maladaire, 2021-05-01)  \n",
       "1  (maladaire, 2021-05-01)  \n",
       "2  (maladaire, 2021-05-01)  \n",
       "3  (maladaire, 2021-05-01)  \n",
       "4  (maladaire, 2021-05-01)  \n",
       "\n",
       "[5 rows x 31 columns]"
      ]
     },
     "execution_count": 15,
     "metadata": {},
     "output_type": "execute_result"
    }
   ],
   "source": [
    "data.head()"
   ]
  },
  {
   "cell_type": "code",
   "execution_count": 65,
   "metadata": {},
   "outputs": [
    {
     "data": {
      "text/plain": [
       "4.8021295248501773e-08"
      ]
     },
     "execution_count": 65,
     "metadata": {},
     "output_type": "execute_result"
    }
   ],
   "source": [
    "from scipy.stats import binom\n"
   ]
  },
  {
   "cell_type": "markdown",
   "metadata": {},
   "source": [
    "__using trash data__"
   ]
  },
  {
   "cell_type": "code",
   "execution_count": 118,
   "metadata": {},
   "outputs": [],
   "source": [
    "# conditions\n",
    "city = 'Yverdon-les-Bains'\n",
    "objct = \"G112\"\n",
    "lake = \"neuenburgersee\"\n",
    "\n",
    "def make_binomial(n, p):\n",
    "    \"\"\"Make a binomial Pmf.\"\"\"\n",
    "    ks = np.arange(n+1)\n",
    "    ps = binom.pmf(ks, n, p)\n",
    "    return ks, ps\n",
    "\n",
    "\n",
    "\n",
    "data = fd[fd.water_name_slug == lake].copy()\n",
    "\n",
    "# assume the chance of finding one of the objects at a survey\n",
    "# was the same at all locations on the lake. That can be \n",
    "# approximated by taking the ratio of samples > 0 for that object\n",
    "plake = fd[(fd.water_name_slug == lake)&(fd.code == objct)].quantity > 0\n",
    "\n",
    "hypos = np.arange(1, 45)\n",
    "p = plake.mean()\n",
    "\n",
    "# the distribution of object survey results assuming uniform probability at all locations\n",
    "x, y = make_binomial(45, p)\n",
    "prior = pd.Series(data=y, index=x)\n",
    "\n",
    "# the likelihood at each sample can be calculated\n",
    "dfdt = fd[fd.water_name_slug == lake].groupby('loc_date', as_index=False).quantity.sum()\n",
    "dfdt['objct'] = dfdt.loc_date.map(lambda x: fd[(fd.code == objct)&(fd.loc_date == x)].quantity.to_numpy()[0])\n",
    "dfdt['likelihood'] = dfdt.objct/dfdt.quantity\n",
    "dfdt['likelihood'] = dfdt.likelihood.where(dfdt.likelihood > 0, p)\n",
    "posterior = prior.copy()\n",
    "posterior *= dfdt.likelihood\n",
    "posterior  /= posterior.sum()"
   ]
  },
  {
   "cell_type": "code",
   "execution_count": 119,
   "metadata": {},
   "outputs": [
    {
     "data": {
      "text/plain": [
       "<AxesSubplot:>"
      ]
     },
     "execution_count": 119,
     "metadata": {},
     "output_type": "execute_result"
    },
    {
     "data": {
      "image/png": "[encoded data removed]",
      "text/plain": [
       "<Figure size 576x504 with 1 Axes>"
      ]
     },
     "metadata": {
      "needs_background": "light"
     },
     "output_type": "display_data"
    }
   ],
   "source": [
    "fig, ax = plt.subplots(figsize=(8,7))\n",
    "\n",
    "sns.lineplot(x=posterior.index, y=posterior, ax=ax, label='posterior')\n",
    "sns.lineplot(x=x, y=y, ax=ax, label='prior distribution')"
   ]
  },
  {
   "cell_type": "code",
   "execution_count": 120,
   "metadata": {},
   "outputs": [
    {
     "data": {
      "text/plain": [
       "15.582538145644593"
      ]
     },
     "execution_count": 120,
     "metadata": {},
     "output_type": "execute_result"
    }
   ],
   "source": [
    "# the mean of the posterior distribution\n",
    "(posterior*posterior.index.values).sum()"
   ]
  },
  {
   "cell_type": "code",
   "execution_count": 123,
   "metadata": {},
   "outputs": [
    {
     "data": {
      "text/plain": [
       "13    0.201319\n",
       "dtype: float64"
      ]
     },
     "execution_count": 123,
     "metadata": {},
     "output_type": "execute_result"
    }
   ],
   "source": [
    "posterior[posterior == posterior.max()]"
   ]
  },
  {
   "cell_type": "code",
   "execution_count": 121,
   "metadata": {},
   "outputs": [
    {
     "data": {
      "text/plain": [
       "16.363636363636893"
      ]
     },
     "execution_count": 121,
     "metadata": {},
     "output_type": "execute_result"
    }
   ],
   "source": [
    "(x*y).sum()"
   ]
  },
  {
   "cell_type": "code",
   "execution_count": 130,
   "metadata": {},
   "outputs": [
    {
     "data": {
      "text/plain": [
       "0.36363636363636365"
      ]
     },
     "execution_count": 130,
     "metadata": {},
     "output_type": "execute_result"
    }
   ],
   "source": [
    "p"
   ]
  },
  {
   "cell_type": "code",
   "execution_count": 145,
   "metadata": {},
   "outputs": [],
   "source": [
    "# The probability of finding one objct on the lake is the sum of the probability of finding\n",
    "# that object at all the different locations.\n",
    "\n",
    "# the locations on the lake\n",
    "locs = data.city.unique()\n",
    "bycity = data.groupby(['city']).loc_date.nunique()\n",
    "gzero = data[(data.code == objct)&(data.quantity > 0)].groupby(\"city\").loc_date.nunique()"
   ]
  },
  {
   "cell_type": "code",
   "execution_count": 155,
   "metadata": {},
   "outputs": [
    {
     "data": {
      "text/plain": [
       "city\n",
       "Boudry                1\n",
       "Cheyres-Châbles      13\n",
       "Cudrefin              1\n",
       "Estavayer             1\n",
       "Grandson              1\n",
       "Hauterive (NE)        1\n",
       "Neuchâtel            13\n",
       "Yverdon-les-Bains    13\n",
       "Name: loc_date, dtype: int64"
      ]
     },
     "execution_count": 155,
     "metadata": {},
     "output_type": "execute_result"
    }
   ],
   "source": [
    "bycity"
   ]
  },
  {
   "cell_type": "code",
   "execution_count": 164,
   "metadata": {},
   "outputs": [
    {
     "data": {
      "text/plain": [
       "city\n",
       "Boudry               0.022727\n",
       "Cheyres-Châbles      0.295455\n",
       "Cudrefin             0.022727\n",
       "Estavayer            0.022727\n",
       "Grandson             0.022727\n",
       "Hauterive (NE)       0.022727\n",
       "Neuchâtel            0.295455\n",
       "Yverdon-les-Bains    0.295455\n",
       "Name: loc_date, dtype: float64"
      ]
     },
     "execution_count": 164,
     "metadata": {},
     "output_type": "execute_result"
    }
   ],
   "source": [
    "cityweight = bycity/data.loc_date.nunique()\n",
    "cityweight"
   ]
  },
  {
   "cell_type": "code",
   "execution_count": 157,
   "metadata": {},
   "outputs": [
    {
     "data": {
      "text/plain": [
       "city\n",
       "Cheyres-Châbles       4\n",
       "Estavayer             1\n",
       "Grandson              1\n",
       "Yverdon-les-Bains    10\n",
       "Name: loc_date, dtype: int64"
      ]
     },
     "execution_count": 157,
     "metadata": {},
     "output_type": "execute_result"
    }
   ],
   "source": [
    "gzero"
   ]
  },
  {
   "cell_type": "code",
   "execution_count": 170,
   "metadata": {},
   "outputs": [],
   "source": [
    "probs = (gzero/bycity).fillna(p)\n",
    "newp = probs*cityweight\n",
    "newp = newp/newp.sum()"
   ]
  },
  {
   "cell_type": "code",
   "execution_count": 173,
   "metadata": {},
   "outputs": [
    {
     "data": {
      "text/plain": [
       "city\n",
       "Boudry               0.363636\n",
       "Cheyres-Châbles      0.307692\n",
       "Cudrefin             0.363636\n",
       "Estavayer            1.000000\n",
       "Grandson             1.000000\n",
       "Hauterive (NE)       0.363636\n",
       "Neuchâtel            0.363636\n",
       "Yverdon-les-Bains    0.769231\n",
       "Name: loc_date, dtype: float64"
      ]
     },
     "execution_count": 173,
     "metadata": {},
     "output_type": "execute_result"
    }
   ],
   "source": [
    "probs"
   ]
  },
  {
   "cell_type": "code",
   "execution_count": 172,
   "metadata": {},
   "outputs": [
    {
     "data": {
      "text/plain": [
       "city\n",
       "Boudry               0.016667\n",
       "Cheyres-Châbles      0.183333\n",
       "Cudrefin             0.016667\n",
       "Estavayer            0.045833\n",
       "Grandson             0.045833\n",
       "Hauterive (NE)       0.016667\n",
       "Neuchâtel            0.216667\n",
       "Yverdon-les-Bains    0.458333\n",
       "Name: loc_date, dtype: float64"
      ]
     },
     "execution_count": 172,
     "metadata": {},
     "output_type": "execute_result"
    }
   ],
   "source": [
    "newp"
   ]
  },
  {
   "cell_type": "code",
   "execution_count": 171,
   "metadata": {},
   "outputs": [
    {
     "data": {
      "text/plain": [
       "1.0"
      ]
     },
     "execution_count": 171,
     "metadata": {},
     "output_type": "execute_result"
    }
   ],
   "source": [
    "data[data.cit]"
   ]
  },
  {
   "cell_type": "code",
   "execution_count": 169,
   "metadata": {},
   "outputs": [
    {
     "data": {
      "text/plain": [
       "4.531468531468532"
      ]
     },
     "execution_count": 169,
     "metadata": {},
     "output_type": "execute_result"
    }
   ],
   "source": [
    "probs.sum()"
   ]
  },
  {
   "cell_type": "code",
   "execution_count": 116,
   "metadata": {},
   "outputs": [
    {
     "name": "stdout",
     "output_type": "stream",
     "text": [
      "0.0\n",
      "0.0\n",
      "0.0\n",
      "0.0\n",
      "0.0\n",
      "0.0\n",
      "0.0\n",
      "0.0\n",
      "0.0\n",
      "0.0\n",
      "0.0\n",
      "0.0\n",
      "0.0\n",
      "0.0\n",
      "0.10877479592233553\n",
      "0.19617491826379038\n",
      "0.32769129283474274\n",
      "0.5057480091072712\n"
     ]
    }
   ],
   "source": [
    "total = 0\n",
    "for q,p in posterior.items():    \n",
    "    total += p\n",
    "    print(total)\n",
    "    if total >= .5:\n",
    "        ptile = q\n",
    "        break"
   ]
  },
  {
   "cell_type": "code",
   "execution_count": 117,
   "metadata": {},
   "outputs": [
    {
     "data": {
      "text/plain": [
       "17"
      ]
     },
     "execution_count": 117,
     "metadata": {},
     "output_type": "execute_result"
    }
   ],
   "source": [
    "ptile"
   ]
  },
  {
   "cell_type": "code",
   "execution_count": 115,
   "metadata": {},
   "outputs": [
    {
     "data": {
      "text/plain": [
       "1.0"
      ]
     },
     "execution_count": 115,
     "metadata": {},
     "output_type": "execute_result"
    }
   ],
   "source": [
    "posterior.sum()"
   ]
  },
  {
   "cell_type": "code",
   "execution_count": 94,
   "metadata": {},
   "outputs": [
    {
     "data": {
      "text/plain": [
       "0     0.000000e+00\n",
       "1     0.000000e+00\n",
       "2     0.000000e+00\n",
       "3     0.000000e+00\n",
       "4     0.000000e+00\n",
       "5     0.000000e+00\n",
       "6     0.000000e+00\n",
       "7     0.000000e+00\n",
       "8     0.000000e+00\n",
       "9     0.000000e+00\n",
       "10    0.000000e+00\n",
       "11    0.000000e+00\n",
       "12    0.000000e+00\n",
       "13    0.000000e+00\n",
       "14    1.087748e-01\n",
       "15    8.740012e-02\n",
       "16    1.315164e-01\n",
       "17    1.780567e-01\n",
       "18    6.018819e-02\n",
       "19    2.953275e-01\n",
       "20    0.000000e+00\n",
       "21    0.000000e+00\n",
       "22    6.073062e-02\n",
       "23    2.335169e-02\n",
       "24    4.811790e-02\n",
       "25    0.000000e+00\n",
       "26    2.465570e-03\n",
       "27    4.003917e-03\n",
       "28    0.000000e+00\n",
       "29    0.000000e+00\n",
       "30    6.506646e-05\n",
       "31    0.000000e+00\n",
       "32    1.564411e-06\n",
       "33    0.000000e+00\n",
       "34    0.000000e+00\n",
       "35    9.026877e-09\n",
       "36    0.000000e+00\n",
       "37    0.000000e+00\n",
       "38    0.000000e+00\n",
       "39    9.859657e-13\n",
       "40    0.000000e+00\n",
       "41    0.000000e+00\n",
       "42    0.000000e+00\n",
       "43    4.579595e-17\n",
       "44             NaN\n",
       "45             NaN\n",
       "dtype: float64"
      ]
     },
     "execution_count": 94,
     "metadata": {},
     "output_type": "execute_result"
    }
   ],
   "source": [
    "posterior"
   ]
  },
  {
   "cell_type": "code",
   "execution_count": null,
   "metadata": {},
   "outputs": [],
   "source": [
    "likelihood"
   ]
  },
  {
   "cell_type": "code",
   "execution_count": null,
   "metadata": {},
   "outputs": [],
   "source": [
    "prior*likelihood/len(prior)"
   ]
  },
  {
   "cell_type": "code",
   "execution_count": null,
   "metadata": {},
   "outputs": [],
   "source": [
    "KS"
   ]
  },
  {
   "cell_type": "code",
   "execution_count": null,
   "metadata": {},
   "outputs": [],
   "source": [
    "sns.lineplot(x=x, y=y)"
   ]
  },
  {
   "cell_type": "code",
   "execution_count": null,
   "metadata": {},
   "outputs": [],
   "source": [
    "pheads = pd.DataFrame(data=y, index=x, columns=['prob'])\n",
    "pheads.loc[pheads.index >= 140].sum()"
   ]
  },
  {
   "cell_type": "code",
   "execution_count": null,
   "metadata": {},
   "outputs": [],
   "source": [
    "pheads.loc[pheads.index <= 110].sum()"
   ]
  },
  {
   "cell_type": "markdown",
   "metadata": {},
   "source": [
    "### Binomial distribution trash data"
   ]
  },
  {
   "cell_type": "code",
   "execution_count": null,
   "metadata": {},
   "outputs": [],
   "source": [
    "# conditions\n",
    "city = 'Yverdon-les-Bains'\n",
    "objct = \"G112\"\n",
    "lake = \"neuenburgersee\"\n",
    "\n",
    "data = fd[fd.water_name_slug == lake]\n",
    "\n",
    "nsee = fd[(fd.code == objct)&(fd.water_name_slug == lake)&(fd.city != city)].copy()\n",
    "cty = fd[(fd.code == objct)&(fd.water_name_slug == lake)&(fd.city == city)].copy()\n",
    "\n",
    "# assume the chance of finding one of the objects at a survey\n",
    "# was the same at all locations on the lake. That can be \n",
    "# approximated by taking the ratio of samples > 0 for that object\n",
    "plake = fd[(fd.water_name_slug == lake)&(fd.code == objct)].quantity > 0\n",
    "\n",
    "# the ratio samples that have at least one of the objects\n",
    "plake.mean()"
   ]
  },
  {
   "cell_type": "code",
   "execution_count": null,
   "metadata": {},
   "outputs": [],
   "source": [
    "# the number of samples on the lake with at least one objct\n",
    "plake.sum()"
   ]
  },
  {
   "cell_type": "code",
   "execution_count": null,
   "metadata": {},
   "outputs": [],
   "source": [
    "# boolean series\n",
    "ctyx = (cty.code == objct)&(cty.water_name_slug == lake)&(cty.city == city)\n",
    "cnzero = cty.quantity > 0\n",
    "\n",
    "nseex = (nsee.code == objct)&(nsee.water_name_slug == lake)&(nsee.city != city)\n",
    "nseenzero = nsee.quantity > 0\n",
    "\n",
    "# the ratio of samples with the objct at ylb\n",
    "cnzero.mean()"
   ]
  },
  {
   "cell_type": "code",
   "execution_count": null,
   "metadata": {},
   "outputs": [],
   "source": [
    "# the number of samples with at least one objct at ylb\n",
    "cnzero.sum()"
   ]
  },
  {
   "cell_type": "code",
   "execution_count": null,
   "metadata": {},
   "outputs": [],
   "source": [
    "n = data.loc_date.nunique()\n",
    "p = plake.mean()\n",
    "tsamps = [1]*n\n",
    "\n",
    "xobjct, yobjct = make_binomial(n, p)\n",
    "\n",
    "prior = pd.DataFrame(data=yobjct, index=xobjct, columns=['prob'])\n",
    "\n",
    "# the ratio of 10/13 = x/44\n",
    "tmax = ((10*44)/13)"
   ]
  },
  {
   "cell_type": "code",
   "execution_count": null,
   "metadata": {},
   "outputs": [],
   "source": [
    "fig, ax = plt.subplots(figsize=(8,7))\n",
    "sns.lineplot(data=prior, x=prior.index, y='prob', ax=ax)\n",
    "ax.scatter(tmax, prior.loc[prior.index >= tmax].sum(), c='red')"
   ]
  },
  {
   "cell_type": "code",
   "execution_count": null,
   "metadata": {},
   "outputs": [],
   "source": [
    "# the probability that 10/13 or 34/44 samples will have at least one objct\n",
    "# given the assumption that all locations have the same probability\n",
    "prior.loc[prior.index > tmax].sum()"
   ]
  },
  {
   "cell_type": "code",
   "execution_count": null,
   "metadata": {},
   "outputs": [],
   "source": [
    "# the most probable value is 16 at .12\n",
    "prior[prior.prob == prior.prob.max()]"
   ]
  },
  {
   "cell_type": "code",
   "execution_count": null,
   "metadata": {},
   "outputs": [],
   "source": [
    "break"
   ]
  },
  {
   "cell_type": "code",
   "execution_count": null,
   "metadata": {},
   "outputs": [],
   "source": [
    "# the probability of finding at least k amount of an object o:\n",
    "unit_label = 'p/100m'\n",
    "nsamps = pg112city.loc_date.nunique()\n",
    "nobjects = pg112city[unit_label].max()\n",
    "anindex = np.arange(start=0, stop=nobjects+1, step=1)\n",
    "\n",
    "data = pg112city.copy()\n",
    "\n",
    "p_object = pd.DataFrame(index=anindex)\n",
    "\n",
    "for obj in anindex:\n",
    "    n = len(pg112city[unit_label] > obj)\n",
    "    p = n/nsamps\n",
    "    p_object.loc[obj, objct] = p"
   ]
  },
  {
   "cell_type": "code",
   "execution_count": null,
   "metadata": {},
   "outputs": [],
   "source": [
    "fig, ax = plt.subplots()\n",
    "p_object[\"1-p\"] = 1-p_object[objct] \n",
    "sns.scatterplot(data=p_object, x=p_object.index, y=p_object[objct], label=f\"p of {objct}\", color='red', ax=ax)\n",
    "sns.scatterplot(data=p_object, x=p_object.index, y=p_object[\"1-p\"], label=f\"1-p\", ax=ax)\n",
    "plt.show()"
   ]
  },
  {
   "cell_type": "code",
   "execution_count": null,
   "metadata": {},
   "outputs": [],
   "source": [
    "p_object"
   ]
  },
  {
   "cell_type": "code",
   "execution_count": null,
   "metadata": {},
   "outputs": [],
   "source": [
    "fd[fd.code == objct][unit_label].median()"
   ]
  },
  {
   "cell_type": "code",
   "execution_count": null,
   "metadata": {},
   "outputs": [],
   "source": [
    "p_object[objct].sum()"
   ]
  },
  {
   "cell_type": "code",
   "execution_count": null,
   "metadata": {},
   "outputs": [],
   "source": [
    "pbaare = pd.DataFrame(index=anindex)"
   ]
  },
  {
   "cell_type": "code",
   "execution_count": null,
   "metadata": {},
   "outputs": [],
   "source": [
    "pbaare[objct] = 0\n",
    "\n",
    "for obj in anindex:\n",
    "#     print(obj)\n",
    "    n = len(fd[(fd.code == objct) & (fd.quantity > obj)&(fd.river_bassin == rb)])\n",
    "    p = n/nsamps\n",
    "#     print(n)\n",
    "#     print(n/fd[fd.river_bassin == rb].loc_date.nunique())\n",
    "    pbaare.loc[obj, objct] = p"
   ]
  },
  {
   "cell_type": "code",
   "execution_count": null,
   "metadata": {},
   "outputs": [],
   "source": [
    "fig, ax = plt.subplots()\n",
    "pbaare[\"1-p\"] = 1-pbaare[objct] \n",
    "sns.scatterplot(data=p_object, x=p_object.index, y=p_object[objct], label=f\"p of {objct}\", color='red', ax=ax)\n",
    "sns.scatterplot(data=pbaare, x=pbaare.index, y=pbaare[objct], label=f\"P({objct}|{rb})\", color='blue', ax=ax)\n",
    "# sns.lineplot(data=p_object, x=p_object.index, y=p_object[\"1-p\"], label=f\"1-p\", ax=ax)\n",
    "plt.show()"
   ]
  },
  {
   "cell_type": "code",
   "execution_count": null,
   "metadata": {},
   "outputs": [],
   "source": [
    "pdist.x[:30]"
   ]
  },
  {
   "cell_type": "code",
   "execution_count": null,
   "metadata": {},
   "outputs": [],
   "source": []
  }
 ],
 "metadata": {
  "kernelspec": {
   "display_name": "Python 3 (ipykernel)",
   "language": "python",
   "name": "python3"
  },
  "language_info": {
   "codemirror_mode": {
    "name": "ipython",
    "version": 3
   },
   "file_extension": ".py",
   "mimetype": "text/x-python",
   "name": "python",
   "nbconvert_exporter": "python",
   "pygments_lexer": "ipython3",
   "version": "3.8.10"
  }
 },
 "nbformat": 4,
 "nbformat_minor": 4
}
